{
 "cells": [
  {
   "cell_type": "code",
   "execution_count": 19,
   "metadata": {},
   "outputs": [],
   "source": [
    "import os\n",
    "import numpy as np\n",
    "import sys\n",
    "from pandas import Series, DataFrame\n",
    "import pandas as pd\n",
    "pd.set_option('display.float_format', lambda x: '%.0f' % x)"
   ]
  },
  {
   "cell_type": "code",
   "execution_count": 20,
   "metadata": {},
   "outputs": [
    {
     "name": "stderr",
     "output_type": "stream",
     "text": [
      "C:\\Users\\83821\\Anaconda3\\lib\\site-packages\\IPython\\core\\interactiveshell.py:2785: DtypeWarning: Columns (0,8,9,10,17,18,19,21,22,23,24) have mixed types. Specify dtype option on import or set low_memory=False.\n",
      "  interactivity=interactivity, compiler=compiler, result=result)\n"
     ]
    },
    {
     "name": "stdout",
     "output_type": "stream",
     "text": [
      "         examiner_art_unit                                    invention_title\n",
      "0                      NaN                                                  ?\n",
      "1                      NaN                                                  ?\n",
      "2                      NaN                                                  ?\n",
      "3                      NaN                                BOX STAYING MACHINE\n",
      "4                      NaN                                                NaN\n",
      "5                      NaN                                                  ?\n",
      "6                      NaN                                                  ?\n",
      "7                     3662                                                  ?\n",
      "8                      NaN                              ANTISKID CROSS CHAINS\n",
      "9                      NaN                                                NaN\n",
      "10                     NaN                                                NaN\n",
      "11                     NaN                                                  ?\n",
      "12                     NaN                                                  ?\n",
      "13                     NaN                                                  ?\n",
      "14                     NaN                                                  ?\n",
      "15                     NaN                                                  ?\n",
      "16                     NaN                                                  ?\n",
      "17                     NaN                                                  ?\n",
      "18                     NaN                                                  ?\n",
      "19                     NaN                                                NaN\n",
      "20                     NaN                                                  ?\n",
      "21                     NaN                                                  ?\n",
      "22                     NaN                                                NaN\n",
      "23                     NaN                                                  ?\n",
      "24                     NaN                                                  ?\n",
      "25                     NaN                                 DESIGN FOR CARPETS\n",
      "26                     NaN                                                NaN\n",
      "27                    2204        PRODUCTION OF ARTICLES FROM POWDERED METALS\n",
      "28                    3662                                                  ?\n",
      "29                     NaN                                                NaN\n",
      "...                    ...                                                ...\n",
      "10478218              3902                                     A TEACHING AID\n",
      "10478219              3902          MEHTOD AND APPARATUS FOR REPELLING SHARKS\n",
      "10478220              3902  VEHICLE AND EQUIPMENT ACCESS CONTROL THAT TRAN...\n",
      "10478221              3902  CONTROLLED VEHICLE AND EQUIPMENT PRE START CHE...\n",
      "10478222              3902           A PROCESS FOR ASSIGNING ACCOUNTING CODES\n",
      "10478223              3902                                     USER INTERFACE\n",
      "10478224              3902                        CREDIT CARD SECURITY SYSTEM\n",
      "10478225              3902      A METHOD OF CONDUCTING FINANCIAL TRANSACTIONS\n",
      "10478226              3902                       METHOD OF USE OF INFORMATION\n",
      "10478227              3902             TELECOMMUNICATION INTERACTIVE PLATFORM\n",
      "10478228              3902   REDUCTION OF WEAR IN COMPRESSION IGNITION ENGINE\n",
      "10478229              3902                    TRANSACTION FACILITATION SYSTEM\n",
      "10478230              3901  IDENTITY VERIFICATION SYSTEM USING NETWORK INI...\n",
      "10478231              3725                              GYRATORY CONE CRUSHER\n",
      "10478232              3902  DUAL-MODALITY SCANNING SYSTEM FOR DETECTING BR...\n",
      "10478233              3901  APPARATUS AND METHODS OF ADVERTISING ON THE IN...\n",
      "10478234              3902                                             FEEDER\n",
      "10478235              3903  APPARATUS AND METHOD OF APPLYING LUBRICANT TO ...\n",
      "10478236              3902                BILLBOARD BILLING SYSTEM AND METHOD\n",
      "10478237              3903                           TIMING SYSTEM AND METHOD\n",
      "10478238              3902        RAPIST IDENTIFIER CUM RAPE VICTIM PROTECTOR\n",
      "10478239              3902                            DIESEL FUEL COMPOSITION\n",
      "10478240              3644                       WING AND APPLICATION THEREOF\n",
      "10478241              3754                                      AN APPLICATOR\n",
      "10478242              3902        A LIGHTNING DETECTION AND PROTECTION SYSTEM\n",
      "10478243              3903         METHOD OF GENERATING AND PROCESSING IMAGES\n",
      "10478244              3901                        MULTI-CYCLE POWER GENERATOR\n",
      "10478245              3902  SYSTEM AND METHOD FOR CONDUCTING SECURE CREDIT...\n",
      "10478246              3901  VIBRATION GENERATOR FOR A DRILLING INSTALLATIO...\n",
      "10478247              3711                                          CONNECTOR\n",
      "\n",
      "[10478248 rows x 2 columns]\n"
     ]
    }
   ],
   "source": [
    "data_all = pd.read_csv(\"D:dataset/application_data.csv\")\n",
    "\n",
    "data_all = data_all.filter(items = ['examiner_art_unit','invention_title'])\n",
    "\n",
    "print(data_all)"
   ]
  },
  {
   "cell_type": "code",
   "execution_count": 21,
   "metadata": {},
   "outputs": [
    {
     "name": "stdout",
     "output_type": "stream",
     "text": [
      "         examiner_art_unit                                    invention_title\n",
      "7                     3662                                                  ?\n",
      "27                    2204        PRODUCTION OF ARTICLES FROM POWDERED METALS\n",
      "28                    3662                                                  ?\n",
      "32                    2202                                                  ?\n",
      "33                    2201                       MAGNETIC MINE FIRING CIRCUIT\n",
      "34                    3641  METHOD OF DETERMINING THE EXTENT TO WHICH A NI...\n",
      "35                    2202                                                  ?\n",
      "37                    3641         COATED METAL ARTICLES AND METHOD OF MAKING\n",
      "39                    2202  MULTIPLEX COMMUNICATION SYSTEM EMPLOYING PULSE...\n",
      "40                    2202  CIPHER APPARATUS FOR MULTIPLEX PULSE CODE MODU...\n",
      "42                    3662                                                  ?\n",
      "44                    2202                                                  ?\n",
      "45                    2203         METHOD FOR THE PRODUCTION OF NICKEL POWDER\n",
      "46                    3641                                METHOD OF JACKETING\n",
      "50                    2201                                     TORPEDO GUARDS\n",
      "55                    2201                                                  ?\n",
      "57                    3641                                      DISPOSAL UNIT\n",
      "61                    2202  AUTOKEY GENERATOR FOR SECRET COMMUNICATION SYSTEM\n",
      "62                    2202                                                  ?\n",
      "63                    2202                             AUTOKEY CODE GENERATOR\n",
      "68                    3641                              COATED METAL ARTICLES\n",
      "72                    2202  BLANKING WAVE GENERATOR BINARY CODE SYNCHRONIZ...\n",
      "76                    3641                                  JACKETING PROCESS\n",
      "83                    2202             TELEPHONE SYSTEM EAVES DROPPING DEVICE\n",
      "85                    2202                                   SIGNALING SYSTEM\n",
      "87                    2202                                                  ?\n",
      "92                    2202        COMMUNICATIONS SYSTEM FOR REMOTE MONITORING\n",
      "94                    3662                       PULSE TRANSLATIONAL CIRCUITS\n",
      "96                    3641              A SAFETY DEVICE FOR A NEUTRON REACTOR\n",
      "101                   3641   A SAFETY CONTROL CIRCUIT FOR A NEUTRONIC REACTOR\n",
      "...                    ...                                                ...\n",
      "10478218              3902                                     A TEACHING AID\n",
      "10478219              3902          MEHTOD AND APPARATUS FOR REPELLING SHARKS\n",
      "10478220              3902  VEHICLE AND EQUIPMENT ACCESS CONTROL THAT TRAN...\n",
      "10478221              3902  CONTROLLED VEHICLE AND EQUIPMENT PRE START CHE...\n",
      "10478222              3902           A PROCESS FOR ASSIGNING ACCOUNTING CODES\n",
      "10478223              3902                                     USER INTERFACE\n",
      "10478224              3902                        CREDIT CARD SECURITY SYSTEM\n",
      "10478225              3902      A METHOD OF CONDUCTING FINANCIAL TRANSACTIONS\n",
      "10478226              3902                       METHOD OF USE OF INFORMATION\n",
      "10478227              3902             TELECOMMUNICATION INTERACTIVE PLATFORM\n",
      "10478228              3902   REDUCTION OF WEAR IN COMPRESSION IGNITION ENGINE\n",
      "10478229              3902                    TRANSACTION FACILITATION SYSTEM\n",
      "10478230              3901  IDENTITY VERIFICATION SYSTEM USING NETWORK INI...\n",
      "10478231              3725                              GYRATORY CONE CRUSHER\n",
      "10478232              3902  DUAL-MODALITY SCANNING SYSTEM FOR DETECTING BR...\n",
      "10478233              3901  APPARATUS AND METHODS OF ADVERTISING ON THE IN...\n",
      "10478234              3902                                             FEEDER\n",
      "10478235              3903  APPARATUS AND METHOD OF APPLYING LUBRICANT TO ...\n",
      "10478236              3902                BILLBOARD BILLING SYSTEM AND METHOD\n",
      "10478237              3903                           TIMING SYSTEM AND METHOD\n",
      "10478238              3902        RAPIST IDENTIFIER CUM RAPE VICTIM PROTECTOR\n",
      "10478239              3902                            DIESEL FUEL COMPOSITION\n",
      "10478240              3644                       WING AND APPLICATION THEREOF\n",
      "10478241              3754                                      AN APPLICATOR\n",
      "10478242              3902        A LIGHTNING DETECTION AND PROTECTION SYSTEM\n",
      "10478243              3903         METHOD OF GENERATING AND PROCESSING IMAGES\n",
      "10478244              3901                        MULTI-CYCLE POWER GENERATOR\n",
      "10478245              3902  SYSTEM AND METHOD FOR CONDUCTING SECURE CREDIT...\n",
      "10478246              3901  VIBRATION GENERATOR FOR A DRILLING INSTALLATIO...\n",
      "10478247              3711                                          CONNECTOR\n",
      "\n",
      "[9302871 rows x 2 columns]\n"
     ]
    }
   ],
   "source": [
    "data_all = data_all.dropna(axis = 0, how = 'any')\n",
    "\n",
    "print(data_all)"
   ]
  },
  {
   "cell_type": "code",
   "execution_count": 60,
   "metadata": {},
   "outputs": [
    {
     "ename": "ValueError",
     "evalue": "invalid literal for int() with base 10: 'SIRA'",
     "output_type": "error",
     "traceback": [
      "\u001b[1;31m---------------------------------------------------------------------------\u001b[0m",
      "\u001b[1;31mValueError\u001b[0m                                Traceback (most recent call last)",
      "\u001b[1;32m<ipython-input-60-7075f9f653b2>\u001b[0m in \u001b[0;36m<module>\u001b[1;34m()\u001b[0m\n\u001b[0;32m      2\u001b[0m     \u001b[0mnew_value\u001b[0m \u001b[1;33m=\u001b[0m \u001b[0mvalue\u001b[0m\u001b[1;33m.\u001b[0m\u001b[0mreplace\u001b[0m\u001b[1;33m(\u001b[0m\u001b[1;34m' '\u001b[0m\u001b[1;33m,\u001b[0m\u001b[1;34m''\u001b[0m\u001b[1;33m)\u001b[0m\u001b[1;33m\u001b[0m\u001b[0m\n\u001b[0;32m      3\u001b[0m     \u001b[1;32mreturn\u001b[0m \u001b[0mnp\u001b[0m\u001b[1;33m.\u001b[0m\u001b[0mint64\u001b[0m \u001b[1;33m(\u001b[0m\u001b[0mnew_value\u001b[0m\u001b[1;33m)\u001b[0m\u001b[1;33m\u001b[0m\u001b[0m\n\u001b[1;32m----> 4\u001b[1;33m \u001b[0mdata_all\u001b[0m\u001b[1;33m[\u001b[0m\u001b[1;34m'examiner_art_unit'\u001b[0m\u001b[1;33m]\u001b[0m\u001b[1;33m.\u001b[0m\u001b[0mapply\u001b[0m \u001b[1;33m(\u001b[0m\u001b[0mconvert_int\u001b[0m\u001b[1;33m)\u001b[0m\u001b[1;33m\u001b[0m\u001b[0m\n\u001b[0m",
      "\u001b[1;32m~\\Anaconda3\\lib\\site-packages\\pandas\\core\\series.py\u001b[0m in \u001b[0;36mapply\u001b[1;34m(self, func, convert_dtype, args, **kwds)\u001b[0m\n\u001b[0;32m   3190\u001b[0m             \u001b[1;32melse\u001b[0m\u001b[1;33m:\u001b[0m\u001b[1;33m\u001b[0m\u001b[0m\n\u001b[0;32m   3191\u001b[0m                 \u001b[0mvalues\u001b[0m \u001b[1;33m=\u001b[0m \u001b[0mself\u001b[0m\u001b[1;33m.\u001b[0m\u001b[0mastype\u001b[0m\u001b[1;33m(\u001b[0m\u001b[0mobject\u001b[0m\u001b[1;33m)\u001b[0m\u001b[1;33m.\u001b[0m\u001b[0mvalues\u001b[0m\u001b[1;33m\u001b[0m\u001b[0m\n\u001b[1;32m-> 3192\u001b[1;33m                 \u001b[0mmapped\u001b[0m \u001b[1;33m=\u001b[0m \u001b[0mlib\u001b[0m\u001b[1;33m.\u001b[0m\u001b[0mmap_infer\u001b[0m\u001b[1;33m(\u001b[0m\u001b[0mvalues\u001b[0m\u001b[1;33m,\u001b[0m \u001b[0mf\u001b[0m\u001b[1;33m,\u001b[0m \u001b[0mconvert\u001b[0m\u001b[1;33m=\u001b[0m\u001b[0mconvert_dtype\u001b[0m\u001b[1;33m)\u001b[0m\u001b[1;33m\u001b[0m\u001b[0m\n\u001b[0m\u001b[0;32m   3193\u001b[0m \u001b[1;33m\u001b[0m\u001b[0m\n\u001b[0;32m   3194\u001b[0m         \u001b[1;32mif\u001b[0m \u001b[0mlen\u001b[0m\u001b[1;33m(\u001b[0m\u001b[0mmapped\u001b[0m\u001b[1;33m)\u001b[0m \u001b[1;32mand\u001b[0m \u001b[0misinstance\u001b[0m\u001b[1;33m(\u001b[0m\u001b[0mmapped\u001b[0m\u001b[1;33m[\u001b[0m\u001b[1;36m0\u001b[0m\u001b[1;33m]\u001b[0m\u001b[1;33m,\u001b[0m \u001b[0mSeries\u001b[0m\u001b[1;33m)\u001b[0m\u001b[1;33m:\u001b[0m\u001b[1;33m\u001b[0m\u001b[0m\n",
      "\u001b[1;32mpandas/_libs/src\\inference.pyx\u001b[0m in \u001b[0;36mpandas._libs.lib.map_infer\u001b[1;34m()\u001b[0m\n",
      "\u001b[1;32m<ipython-input-60-7075f9f653b2>\u001b[0m in \u001b[0;36mconvert_int\u001b[1;34m(value)\u001b[0m\n\u001b[0;32m      1\u001b[0m \u001b[1;32mdef\u001b[0m \u001b[0mconvert_int\u001b[0m \u001b[1;33m(\u001b[0m\u001b[0mvalue\u001b[0m\u001b[1;33m)\u001b[0m\u001b[1;33m:\u001b[0m\u001b[1;33m\u001b[0m\u001b[0m\n\u001b[0;32m      2\u001b[0m     \u001b[0mnew_value\u001b[0m \u001b[1;33m=\u001b[0m \u001b[0mvalue\u001b[0m\u001b[1;33m.\u001b[0m\u001b[0mreplace\u001b[0m\u001b[1;33m(\u001b[0m\u001b[1;34m' '\u001b[0m\u001b[1;33m,\u001b[0m\u001b[1;34m''\u001b[0m\u001b[1;33m)\u001b[0m\u001b[1;33m\u001b[0m\u001b[0m\n\u001b[1;32m----> 3\u001b[1;33m     \u001b[1;32mreturn\u001b[0m \u001b[0mnp\u001b[0m\u001b[1;33m.\u001b[0m\u001b[0mint64\u001b[0m \u001b[1;33m(\u001b[0m\u001b[0mnew_value\u001b[0m\u001b[1;33m)\u001b[0m\u001b[1;33m\u001b[0m\u001b[0m\n\u001b[0m\u001b[0;32m      4\u001b[0m \u001b[0mdata_all\u001b[0m\u001b[1;33m[\u001b[0m\u001b[1;34m'examiner_art_unit'\u001b[0m\u001b[1;33m]\u001b[0m\u001b[1;33m.\u001b[0m\u001b[0mapply\u001b[0m \u001b[1;33m(\u001b[0m\u001b[0mconvert_int\u001b[0m\u001b[1;33m)\u001b[0m\u001b[1;33m\u001b[0m\u001b[0m\n",
      "\u001b[1;31mValueError\u001b[0m: invalid literal for int() with base 10: 'SIRA'"
     ]
    }
   ],
   "source": [
    "def convert_int (value):\n",
    "    new_value = value.replace(' ','')\n",
    "    return np.int64 (new_value)\n",
    "data_all['examiner_art_unit'].apply (convert_int)"
   ]
  },
  {
   "cell_type": "code",
   "execution_count": 18,
   "metadata": {
    "scrolled": true
   },
   "outputs": [
    {
     "ename": "TypeError",
     "evalue": "'>' not supported between instances of 'str' and 'int'",
     "output_type": "error",
     "traceback": [
      "\u001b[1;31m---------------------------------------------------------------------------\u001b[0m",
      "\u001b[1;31mTypeError\u001b[0m                                 Traceback (most recent call last)",
      "\u001b[1;32m<ipython-input-18-038a8b3f4503>\u001b[0m in \u001b[0;36m<module>\u001b[1;34m()\u001b[0m\n\u001b[0;32m      1\u001b[0m \u001b[1;31m#data_all['examiner_art_unit'] = data_all['examiner_art_unit'].astype('int')\u001b[0m\u001b[1;33m\u001b[0m\u001b[1;33m\u001b[0m\u001b[0m\n\u001b[0;32m      2\u001b[0m \u001b[1;33m\u001b[0m\u001b[0m\n\u001b[1;32m----> 3\u001b[1;33m \u001b[0mdata_cs_new\u001b[0m \u001b[1;33m=\u001b[0m \u001b[0mdata_all\u001b[0m\u001b[1;33m.\u001b[0m\u001b[0mloc\u001b[0m\u001b[1;33m[\u001b[0m\u001b[1;33m(\u001b[0m\u001b[0mdata_all\u001b[0m\u001b[1;33m[\u001b[0m\u001b[1;34m'examiner_art_unit'\u001b[0m\u001b[1;33m]\u001b[0m \u001b[1;33m>\u001b[0m \u001b[1;36m2200\u001b[0m\u001b[1;33m)\u001b[0m \u001b[1;33m&\u001b[0m \u001b[1;33m(\u001b[0m\u001b[0mdata_all\u001b[0m\u001b[1;33m[\u001b[0m\u001b[1;34m'examiner_art_unit'\u001b[0m\u001b[1;33m]\u001b[0m \u001b[1;33m<\u001b[0m \u001b[1;36m2500\u001b[0m \u001b[1;33m)\u001b[0m\u001b[1;33m,\u001b[0m \u001b[1;33m:\u001b[0m\u001b[1;33m]\u001b[0m\u001b[1;33m\u001b[0m\u001b[0m\n\u001b[0m\u001b[0;32m      4\u001b[0m \u001b[1;33m\u001b[0m\u001b[0m\n\u001b[0;32m      5\u001b[0m \u001b[0mprint\u001b[0m\u001b[1;33m(\u001b[0m\u001b[0mdata_cs_new\u001b[0m\u001b[1;33m)\u001b[0m\u001b[1;33m\u001b[0m\u001b[0m\n",
      "\u001b[1;32m~\\Anaconda3\\lib\\site-packages\\pandas\\core\\ops.py\u001b[0m in \u001b[0;36mwrapper\u001b[1;34m(self, other, axis)\u001b[0m\n\u001b[0;32m   1251\u001b[0m \u001b[1;33m\u001b[0m\u001b[0m\n\u001b[0;32m   1252\u001b[0m             \u001b[1;32mwith\u001b[0m \u001b[0mnp\u001b[0m\u001b[1;33m.\u001b[0m\u001b[0merrstate\u001b[0m\u001b[1;33m(\u001b[0m\u001b[0mall\u001b[0m\u001b[1;33m=\u001b[0m\u001b[1;34m'ignore'\u001b[0m\u001b[1;33m)\u001b[0m\u001b[1;33m:\u001b[0m\u001b[1;33m\u001b[0m\u001b[0m\n\u001b[1;32m-> 1253\u001b[1;33m                 \u001b[0mres\u001b[0m \u001b[1;33m=\u001b[0m \u001b[0mna_op\u001b[0m\u001b[1;33m(\u001b[0m\u001b[0mvalues\u001b[0m\u001b[1;33m,\u001b[0m \u001b[0mother\u001b[0m\u001b[1;33m)\u001b[0m\u001b[1;33m\u001b[0m\u001b[0m\n\u001b[0m\u001b[0;32m   1254\u001b[0m             \u001b[1;32mif\u001b[0m \u001b[0mis_scalar\u001b[0m\u001b[1;33m(\u001b[0m\u001b[0mres\u001b[0m\u001b[1;33m)\u001b[0m\u001b[1;33m:\u001b[0m\u001b[1;33m\u001b[0m\u001b[0m\n\u001b[0;32m   1255\u001b[0m                 raise TypeError('Could not compare {typ} type with Series'\n",
      "\u001b[1;32m~\\Anaconda3\\lib\\site-packages\\pandas\\core\\ops.py\u001b[0m in \u001b[0;36mna_op\u001b[1;34m(x, y)\u001b[0m\n\u001b[0;32m   1138\u001b[0m \u001b[1;33m\u001b[0m\u001b[0m\n\u001b[0;32m   1139\u001b[0m         \u001b[1;32melif\u001b[0m \u001b[0mis_object_dtype\u001b[0m\u001b[1;33m(\u001b[0m\u001b[0mx\u001b[0m\u001b[1;33m.\u001b[0m\u001b[0mdtype\u001b[0m\u001b[1;33m)\u001b[0m\u001b[1;33m:\u001b[0m\u001b[1;33m\u001b[0m\u001b[0m\n\u001b[1;32m-> 1140\u001b[1;33m             \u001b[0mresult\u001b[0m \u001b[1;33m=\u001b[0m \u001b[0m_comp_method_OBJECT_ARRAY\u001b[0m\u001b[1;33m(\u001b[0m\u001b[0mop\u001b[0m\u001b[1;33m,\u001b[0m \u001b[0mx\u001b[0m\u001b[1;33m,\u001b[0m \u001b[0my\u001b[0m\u001b[1;33m)\u001b[0m\u001b[1;33m\u001b[0m\u001b[0m\n\u001b[0m\u001b[0;32m   1141\u001b[0m \u001b[1;33m\u001b[0m\u001b[0m\n\u001b[0;32m   1142\u001b[0m         \u001b[1;32melif\u001b[0m \u001b[0mis_datetimelike_v_numeric\u001b[0m\u001b[1;33m(\u001b[0m\u001b[0mx\u001b[0m\u001b[1;33m,\u001b[0m \u001b[0my\u001b[0m\u001b[1;33m)\u001b[0m\u001b[1;33m:\u001b[0m\u001b[1;33m\u001b[0m\u001b[0m\n",
      "\u001b[1;32m~\\Anaconda3\\lib\\site-packages\\pandas\\core\\ops.py\u001b[0m in \u001b[0;36m_comp_method_OBJECT_ARRAY\u001b[1;34m(op, x, y)\u001b[0m\n\u001b[0;32m   1117\u001b[0m         \u001b[0mresult\u001b[0m \u001b[1;33m=\u001b[0m \u001b[0mlibops\u001b[0m\u001b[1;33m.\u001b[0m\u001b[0mvec_compare\u001b[0m\u001b[1;33m(\u001b[0m\u001b[0mx\u001b[0m\u001b[1;33m,\u001b[0m \u001b[0my\u001b[0m\u001b[1;33m,\u001b[0m \u001b[0mop\u001b[0m\u001b[1;33m)\u001b[0m\u001b[1;33m\u001b[0m\u001b[0m\n\u001b[0;32m   1118\u001b[0m     \u001b[1;32melse\u001b[0m\u001b[1;33m:\u001b[0m\u001b[1;33m\u001b[0m\u001b[0m\n\u001b[1;32m-> 1119\u001b[1;33m         \u001b[0mresult\u001b[0m \u001b[1;33m=\u001b[0m \u001b[0mlibops\u001b[0m\u001b[1;33m.\u001b[0m\u001b[0mscalar_compare\u001b[0m\u001b[1;33m(\u001b[0m\u001b[0mx\u001b[0m\u001b[1;33m,\u001b[0m \u001b[0my\u001b[0m\u001b[1;33m,\u001b[0m \u001b[0mop\u001b[0m\u001b[1;33m)\u001b[0m\u001b[1;33m\u001b[0m\u001b[0m\n\u001b[0m\u001b[0;32m   1120\u001b[0m     \u001b[1;32mreturn\u001b[0m \u001b[0mresult\u001b[0m\u001b[1;33m\u001b[0m\u001b[0m\n\u001b[0;32m   1121\u001b[0m \u001b[1;33m\u001b[0m\u001b[0m\n",
      "\u001b[1;32mpandas\\_libs\\ops.pyx\u001b[0m in \u001b[0;36mpandas._libs.ops.scalar_compare\u001b[1;34m()\u001b[0m\n",
      "\u001b[1;31mTypeError\u001b[0m: '>' not supported between instances of 'str' and 'int'"
     ]
    }
   ],
   "source": [
    "#data_all['examiner_art_unit'] = data_all['examiner_art_unit'].astype('int')\n",
    "\n",
    "data_cs_new = data_all.loc[(data_all['examiner_art_unit'] > 2200) & (data_all['examiner_art_unit'] < 2500 ), :]\n",
    "\n",
    "print(data_cs_new)"
   ]
  },
  {
   "cell_type": "code",
   "execution_count": 49,
   "metadata": {
    "scrolled": true
   },
   "outputs": [
    {
     "name": "stdout",
     "output_type": "stream",
     "text": [
      "SEMICONDUCTOR DEVICE                                          7346\n",
      "IMAGE FORMING APPARATUS                                       5349\n",
      "BOTTLE                                                        4200\n",
      "DISPLAY DEVICE                                                3898\n",
      "CONTAINER                                                     3344\n",
      "CHAIR                                                         3337\n",
      "LIQUID CRYSTAL DISPLAY DEVICE                                 3071\n",
      "ELECTRICAL CONNECTOR                                          2792\n",
      "SEMICONDUCTOR MEMORY DEVICE                                   2478\n",
      "SEMICONDUCTOR DEVICE AND METHOD OF MANUFACTURING THE SAME     2175\n",
      "GOLF CLUB HEAD                                                2099\n",
      "ELECTRONIC DEVICE                                             2043\n",
      "MOBILE PHONE                                                  1901\n",
      "TIRE TREAD                                                    1880\n",
      "CONNECTOR                                                     1773\n",
      "SHOE UPPER                                                    1657\n",
      "SEMICONDUCTOR DEVICE AND MANUFACTURING METHOD THEREOF         1631\n",
      "TIRE                                                          1561\n",
      "LIQUID CRYSTAL DISPLAY                                        1403\n",
      "SEMICONDUCTOR DEVICE AND METHOD FOR MANUFACTURING THE SAME    1389\n",
      "Name: invention_title, dtype: int64\n"
     ]
    }
   ],
   "source": [
    "counts = data_all['invention_title'].value_counts()\n",
    "\n",
    "counts = counts.head(20)\n",
    "\n",
    "print(counts)"
   ]
  },
  {
   "cell_type": "code",
   "execution_count": 50,
   "metadata": {},
   "outputs": [
    {
     "data": {
      "image/png": "[encoded data removed]",
      "text/plain": [
       "<Figure size 432x288 with 1 Axes>"
      ]
     },
     "metadata": {},
     "output_type": "display_data"
    }
   ],
   "source": [
    "plt = counts.plot(kind='bar').get_figure()"
   ]
  },
  {
   "cell_type": "code",
   "execution_count": null,
   "metadata": {},
   "outputs": [],
   "source": []
  }
 ],
 "metadata": {
  "kernelspec": {
   "display_name": "Python 3",
   "language": "python",
   "name": "python3"
  },
  "language_info": {
   "codemirror_mode": {
    "name": "ipython",
    "version": 3
   },
   "file_extension": ".py",
   "mimetype": "text/x-python",
   "name": "python",
   "nbconvert_exporter": "python",
   "pygments_lexer": "ipython3",
   "version": "3.6.5"
  }
 },
 "nbformat": 4,
 "nbformat_minor": 2
}
