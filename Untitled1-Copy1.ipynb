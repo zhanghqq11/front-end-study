{
 "cells": [
  {
   "cell_type": "code",
   "execution_count": 6,
   "metadata": {},
   "outputs": [],
   "source": [
    "import os\n",
    "import numpy as np\n",
    "import sys\n",
    "from pandas import Series, DataFrame\n",
    "import nltk\n",
    "import pandas as pd\n",
    "pd.set_option('display.float_format', lambda x: '%.5f' % x)"
   ]
  },
  {
   "cell_type": "code",
   "execution_count": 32,
   "metadata": {
    "scrolled": true
   },
   "outputs": [],
   "source": [
    "data_all = pd.read_csv(\"D:dataset/application_data.csv\")\n",
    "\n",
    "data_all = data_all.filter(items = ['examiner_art_unit','invention_title'])\n"
   ]
  },
  {
   "cell_type": "code",
   "execution_count": 33,
   "metadata": {
    "collapsed": true
   },
   "outputs": [
    {
     "name": "stdout",
     "output_type": "stream",
     "text": [
      "        examiner_art_unit                                    invention_title\n",
      "7                    3662                                                  ?\n",
      "27                   2204        PRODUCTION OF ARTICLES FROM POWDERED METALS\n",
      "28                   3662                                                  ?\n",
      "32                   2202                                                  ?\n",
      "33                   2201                       MAGNETIC MINE FIRING CIRCUIT\n",
      "34                   3641  METHOD OF DETERMINING THE EXTENT TO WHICH A NI...\n",
      "35                   2202                                                  ?\n",
      "37                   3641         COATED METAL ARTICLES AND METHOD OF MAKING\n",
      "39                   2202  MULTIPLEX COMMUNICATION SYSTEM EMPLOYING PULSE...\n",
      "40                   2202  CIPHER APPARATUS FOR MULTIPLEX PULSE CODE MODU...\n",
      "42                   3662                                                  ?\n",
      "44                   2202                                                  ?\n",
      "45                   2203         METHOD FOR THE PRODUCTION OF NICKEL POWDER\n",
      "46                   3641                                METHOD OF JACKETING\n",
      "50                   2201                                     TORPEDO GUARDS\n",
      "55                   2201                                                  ?\n",
      "57                   3641                                      DISPOSAL UNIT\n",
      "61                   2202  AUTOKEY GENERATOR FOR SECRET COMMUNICATION SYSTEM\n",
      "62                   2202                                                  ?\n",
      "63                   2202                             AUTOKEY CODE GENERATOR\n",
      "68                   3641                              COATED METAL ARTICLES\n",
      "72                   2202  BLANKING WAVE GENERATOR BINARY CODE SYNCHRONIZ...\n",
      "76                   3641                                  JACKETING PROCESS\n",
      "83                   2202             TELEPHONE SYSTEM EAVES DROPPING DEVICE\n",
      "85                   2202                                   SIGNALING SYSTEM\n",
      "87                   2202                                                  ?\n",
      "92                   2202        COMMUNICATIONS SYSTEM FOR REMOTE MONITORING\n",
      "94                   3662                       PULSE TRANSLATIONAL CIRCUITS\n",
      "96                   3641              A SAFETY DEVICE FOR A NEUTRON REACTOR\n",
      "101                  3641   A SAFETY CONTROL CIRCUIT FOR A NEUTRONIC REACTOR\n",
      "...                   ...                                                ...\n",
      "9231139              3754  VALVE AND METHOD FOR INHIBITING SPILLAGE WHEN ...\n",
      "9231140              2432                               SECURE DEVICE ACCESS\n",
      "9231141              3902                 CASH TRANSACTION MANAGEMENT SYSTEM\n",
      "9231142              3902       SYSTEMS AND METHODS FOR INFORMATION DELIVERY\n",
      "9231144              3902                     DATA MESSAGE MANAGEMENT SYSTEM\n",
      "9231145              3902                                     A TEACHING AID\n",
      "9231146              3902          MEHTOD AND APPARATUS FOR REPELLING SHARKS\n",
      "9231147              3902  VEHICLE AND EQUIPMENT ACCESS CONTROL THAT TRAN...\n",
      "9231148              3902  CONTROLLED VEHICLE AND EQUIPMENT PRE START CHE...\n",
      "9231149              3902           A PROCESS FOR ASSIGNING ACCOUNTING CODES\n",
      "9231150              3902                                     USER INTERFACE\n",
      "9231151              3902                        CREDIT CARD SECURITY SYSTEM\n",
      "9231152              3902      A METHOD OF CONDUCTING FINANCIAL TRANSACTIONS\n",
      "9231153              3902                       METHOD OF USE OF INFORMATION\n",
      "9231154              3902             TELECOMMUNICATION INTERACTIVE PLATFORM\n",
      "9231155              3902   REDUCTION OF WEAR IN COMPRESSION IGNITION ENGINE\n",
      "9231156              3902                    TRANSACTION FACILITATION SYSTEM\n",
      "9231157              3901  IDENTITY VERIFICATION SYSTEM USING NETWORK INI...\n",
      "9231158              3725                              GYRATORY CONE CRUSHER\n",
      "9231159              3902  DUAL-MODALITY SCANNING SYSTEM FOR DETECTING BR...\n",
      "9231160              3901  APPARATUS AND METHODS OF ADVERTISING ON THE IN...\n",
      "9231161              3902                                             FEEDER\n",
      "9231162              3903  APPARATUS AND METHOD OF APPLYING LUBRICANT TO ...\n",
      "9231163              3902                BILLBOARD BILLING SYSTEM AND METHOD\n",
      "9231164              3903                           TIMING SYSTEM AND METHOD\n",
      "9231165              3902        RAPIST IDENTIFIER CUM RAPE VICTIM PROTECTOR\n",
      "9231166              3902                            DIESEL FUEL COMPOSITION\n",
      "9231167              3903                       WING AND APPLICATION THEREOF\n",
      "9231168              3754                                      AN APPLICATOR\n",
      "9231169              3902        A LIGHTNING DETECTION AND PROTECTION SYSTEM\n",
      "\n",
      "[8231386 rows x 2 columns]\n"
     ]
    }
   ],
   "source": [
    "data_all = data_all.dropna(axis = 0, how = 'any')\n",
    "\n",
    "print(data_all)"
   ]
  },
  {
   "cell_type": "code",
   "execution_count": 34,
   "metadata": {
    "collapsed": true
   },
   "outputs": [
    {
     "name": "stdout",
     "output_type": "stream",
     "text": [
      "        examiner_art_unit                                    invention_title\n",
      "32775          2101.00000  METHOD AND MEANS TO RENDER OBJECTS UNCOPYABLE ...\n",
      "32810          2102.00000                    COLOR IMAGE FORMATION APPARATUS\n",
      "32814          2102.00000  SUPERCONDUCTIVE EXCITER WINDING FOR A TURBOGEN...\n",
      "32839          2102.00000                                         COMMUTATOR\n",
      "32841          2102.00000                                     ELECTRIC MOTOR\n",
      "32852          2102.00000  SERIES CAPACITOR SYSTEM WITH FORCE FIRING OF P...\n",
      "32898          2103.00000                               HAND-HELD HAIR DRYER\n",
      "33001          2103.00000  SUPPORT INSULATOR FOR GAS-FILLED HIGH-VOLTAGE BUS\n",
      "33015          2107.00000  ELECTRONIC TIMEPIECE AND DIGITAL DISPLAY THEREFOR\n",
      "33027          2102.00000           FERRORESONANT VOLTAGE REGULATING CIRCUIT\n",
      "33030          2103.00000          METHOD AND APPARATUS FOR ASSEMBLING RINGS\n",
      "33031          2107.00000  STATIONARY CONTACT STRUCTURE FOR HIGH VOLTAGE ...\n",
      "33035          2101.00000                           COPY PRODUCTION MACHINES\n",
      "33042          2101.00000                              MULTIPLE IMAGE CAMERA\n",
      "33103          2105.00000                        VARIABLE FUNCTION GENERATOR\n",
      "33205          2105.00000                                COPYING ARRANGEMENT\n",
      "33282          2103.00000                       SOLID STATE FORCE TRANSDUCER\n",
      "33283          2102.00000                                   TACKLE BOX LIGHT\n",
      "33284          2102.00000  ROTARY SOLENOID WITH INDIRECTLY COUPLED OUTPUT...\n",
      "33305          2101.00000           DROPLET GENERATOR FOR AN INK JET PRINTER\n",
      "33315          2102.00000             ADJUSTABLE SWITCHING CURRENT REGULATOR\n",
      "33322          2107.00000             KEYBOARD WITH CONCAVE AND CONVEX DOMES\n",
      "33331          2102.00000                        SOLID SAND DETECTION PROBES\n",
      "33355          2101.00000                   PHOTOCOMPOSING DEVICE AND METHOD\n",
      "33414          2102.00000                              AIRCRAFT BRUSH MODULE\n",
      "33499          2105.00000            ELECTRICAL PANEL HAVING MOLDED BASE PAN\n",
      "33504          2102.00000  DEVICE FOR SECURING END CONNECTORS OF ELECTRIC...\n",
      "33529          2103.00000  NONINDUCTIVE FILM-TYPE CYLINDRICAL RESISTOR AN...\n",
      "33532          2101.00000                        ANCHORAGE FOR A MOVING BODY\n",
      "33589          2107.00000  INTERNAL COMBUSTION ENGINE AND D-C FLOATING BA...\n",
      "...                   ...                                                ...\n",
      "7174423        2178.00000  Capturing Structured Data About Previous Event...\n",
      "7174481        2178.00000                 E Z SketX Graph File Folder System\n",
      "7174576        2157.00000  SYSTEM AND METHOD FOR INTEGRATING PUBLIC AND P...\n",
      "7174592        2193.00000  COMPUTING MACHINE WITH AN INEQUALITY COMPUTATI...\n",
      "7174621        2129.00000  METHOD AND SYSTEM FOR ENABLING AUTOMATED AND R...\n",
      "7174623        2129.00000                    BUSINESS SEMANTIC NETWORK BUILD\n",
      "7174626        2141.00000  METHOD AND APPARATUS FOR EXTENDED MANAGEMENT O...\n",
      "7174628        2141.00000  METHOD AND APPARATUS ENABLING VOICE-BASED MANA...\n",
      "7639822        2187.00000  Controlling access to multiple memory zones in...\n",
      "7639824        2131.00000  Controlling access to multiple isolated memori...\n",
      "7639848        2152.00000  System and method for reducing the size of dat...\n",
      "7650734        2123.00000  Emulation, debug and simulation for microproce...\n",
      "7650735        2152.00000  Method and apparatus providing distributed dom...\n",
      "7650738        2152.00000  Method and system for information exchange bet...\n",
      "7675653        2151.00000  Large payload delivery networks having integra...\n",
      "7696034        2182.00000  system and method for using function numbers t...\n",
      "7696035        2152.00000               Flexible aggregation of output links\n",
      "7696037        2121.00000  Apparatus and methods for caching objects usin...\n",
      "7706520        2184.00000  Fault isolation of individual switch modules i...\n",
      "7706719        2182.00000  System and method for interleaving frames with...\n",
      "7706725        2152.00000  Method and apparatus for network-assisted auto...\n",
      "7706726        2184.00000  Failover apparatus and method for an asynchron...\n",
      "7707714        2123.00000  Routing method and apparatus that utilize diag...\n",
      "7709644        2152.00000                     Instant messaging environments\n",
      "7739207        2182.00000    System of and method for decoding trellis codes\n",
      "7739209        2121.00000  Method and apparatus for providing a multi-mod...\n",
      "7739218        2184.00000    System of and method for decoding trellis codes\n",
      "7954756        2173.00000  Reduction of graphical clutter in computer dis...\n",
      "8046583        2139.00000  SYSTEMS AND METHODS OF DATA STORAGE MANAGEMENT...\n",
      "8165064        2112.00000  COMMUNICATION SIGNAL DECODING WITH ITERATIVE C...\n",
      "\n",
      "[103035 rows x 2 columns]\n"
     ]
    }
   ],
   "source": [
    "#data_all['examiner_art_unit'] = data_all['examiner_art_unit'].astype('int')\n",
    "\n",
    "data_cs_new = data_all.loc[(data_all['examiner_art_unit'] > 2100) & (data_all['examiner_art_unit'] < 2200),:]\n",
    "\n",
    "print(data_cs_new)"
   ]
  },
  {
   "cell_type": "code",
   "execution_count": 35,
   "metadata": {
    "collapsed": true
   },
   "outputs": [
    {
     "name": "stdout",
     "output_type": "stream",
     "text": [
      "IMAGE FORMING APPARATUS                                                         484\n",
      "CAMERA                                                                          235\n",
      "RECORDING APPARATUS                                                             136\n",
      "ELECTRONIC MUSICAL INSTRUMENT                                                   120\n",
      "IMAGE RECORDING APPARATUS                                                       110\n",
      "CAMERA SYSTEM                                                                   106\n",
      "ELECTRONIC TIMEPIECE                                                             95\n",
      "ELECTROMAGNETIC RELAY                                                            89\n",
      "COPYING APPARATUS                                                                84\n",
      "PHOTOGRAPHIC CAMERA                                                              74\n",
      "CIRCUIT BREAKER                                                                  73\n",
      "DEVELOPING APPARATUS                                                             66\n",
      "INK JET RECORDING APPARATUS                                                      60\n",
      "AUTOMATIC FOCUSING DEVICE                                                        52\n",
      "THERMAL HEAD                                                                     50\n",
      "PROJECTION EXPOSURE APPARATUS                                                    50\n",
      "THERMAL PRINTER                                                                  47\n",
      "ELECTRIC MOTOR                                                                   47\n",
      "VIBRATION WAVE MOTOR                                                             46\n",
      "IMAGE PROCESSING APPARATUS                                                       43\n",
      "EXPOSURE APPARATUS                                                               43\n",
      "DEVELOPING DEVICE                                                                39\n",
      "COPYING MACHINE                                                                  38\n",
      "ULTRASONIC MOTOR                                                                 36\n",
      "LINEAR MOTOR                                                                     35\n",
      "FOCUS DETECTING DEVICE                                                           35\n",
      "LIQUID JET RECORDING HEAD                                                        35\n",
      "ELEVATOR SYSTEM                                                                  34\n",
      "ELECTROPHOTOGRAPHIC APPARATUS                                                    34\n",
      "COLOR IMAGE FORMING APPARATUS                                                    30\n",
      "                                                                               ... \n",
      "ACCELERATION SENSOR                                                              11\n",
      "CIRCUIT BOARD                                                                    11\n",
      "EXPOSURE CONTROL APPARATUS                                                       11\n",
      "WEIGHING SYSTEM                                                                  10\n",
      "IMAGE FORMING SYSTEM                                                             10\n",
      "USER INTERFACE FOR A COMPUTING DEVICE                                            10\n",
      "GAS CIRCUIT BREAKER                                                              10\n",
      "DATA IMPRINTING DEVICE FOR CAMERA                                                10\n",
      "OPTICAL RECORDING MEDIUM                                                         10\n",
      "MOTION PICTURE CAMERA                                                            10\n",
      "FLASH DEVICE                                                                     10\n",
      "INK JET HEAD                                                                     10\n",
      "STORAGE SYSTEM                                                                   10\n",
      "CAPACITOR                                                                        10\n",
      "MUSICAL TONE CONTROL APPARATUS                                                   10\n",
      "UNINTERRUPTIBLE POWER SUPPLY                                                     10\n",
      "INDUCTION MOTOR CONTROL SYSTEM                                                   10\n",
      "SWITCH DEVICE                                                                    10\n",
      "SOLID ELECTROLYTIC CAPACITOR                                                     10\n",
      "PHOTOGRAPHIC PROCESSING APPARATUS                                                10\n",
      "ELECTRONICALLY CONTROLLED CAMERA                                                 10\n",
      "IMAGING DEVICE                                                                   10\n",
      "COMBINATION WEIGHING MACHINE                                                     10\n",
      "A/D CONVERTER                                                                    10\n",
      "INFORMATION PROCESSING APPARATUS, INFORMATION PROCESSING METHOD, AND PROGRAM     10\n",
      "SPEAKER SYSTEM                                                                   10\n",
      "ACOUSTIC APPARATUS                                                               10\n",
      "MICROWAVE HEATING APPARATUS                                                      10\n",
      "WRISTWATCH RADIOTELEPHONE                                                        10\n",
      "ELECTRICAL MACHINE                                                               10\n",
      "Name: invention_title, Length: 200, dtype: int64\n"
     ]
    }
   ],
   "source": [
    "counts = data_cs_new['invention_title'].value_counts()\n",
    "\n",
    "counts = counts.head(200)\n",
    "\n",
    "print(counts)"
   ]
  },
  {
   "cell_type": "code",
   "execution_count": 10,
   "metadata": {
    "collapsed": true
   },
   "outputs": [
    {
     "name": "stderr",
     "output_type": "stream",
     "text": [
      "C:\\Users\\83821\\Anaconda3\\envs\\python_2.7\\lib\\site-packages\\ipykernel_launcher.py:4: SettingWithCopyWarning: \n",
      "A value is trying to be set on a copy of a slice from a DataFrame.\n",
      "Try using .loc[row_indexer,col_indexer] = value instead\n",
      "\n",
      "See the caveats in the documentation: http://pandas.pydata.org/pandas-docs/stable/indexing.html#indexing-view-versus-copy\n",
      "  after removing the cwd from sys.path.\n"
     ]
    }
   ],
   "source": [
    "# type(data_cs_new['invention_title'])\n",
    "# from nltk.tokenize import word_tokenize\n",
    "# #import word_tokenize\n",
    "# data_cs_new['invention_title'] = data_cs_new['invention_title'].apply(lambda row : word_tokenize(row))"
   ]
  },
  {
   "cell_type": "code",
   "execution_count": 6,
   "metadata": {
    "collapsed": true
   },
   "outputs": [
    {
     "name": "stdout",
     "output_type": "stream",
     "text": [
      "32775      METHOD AND MEANS TO RENDER OBJECTS UNCOPYABLE ...\n",
      "32810                        COLOR IMAGE FORMATION APPARATUS\n",
      "32814      SUPERCONDUCTIVE EXCITER WINDING FOR A TURBOGEN...\n",
      "32839                                             COMMUTATOR\n",
      "32841                                         ELECTRIC MOTOR\n",
      "32852      SERIES CAPACITOR SYSTEM WITH FORCE FIRING OF P...\n",
      "32898                                   HAND-HELD HAIR DRYER\n",
      "33001      SUPPORT INSULATOR FOR GAS-FILLED HIGH-VOLTAGE BUS\n",
      "33015      ELECTRONIC TIMEPIECE AND DIGITAL DISPLAY THEREFOR\n",
      "33027               FERRORESONANT VOLTAGE REGULATING CIRCUIT\n",
      "33030              METHOD AND APPARATUS FOR ASSEMBLING RINGS\n",
      "33031      STATIONARY CONTACT STRUCTURE FOR HIGH VOLTAGE ...\n",
      "33035                               COPY PRODUCTION MACHINES\n",
      "33042                                  MULTIPLE IMAGE CAMERA\n",
      "33103                            VARIABLE FUNCTION GENERATOR\n",
      "33205                                    COPYING ARRANGEMENT\n",
      "33282                           SOLID STATE FORCE TRANSDUCER\n",
      "33283                                       TACKLE BOX LIGHT\n",
      "33284      ROTARY SOLENOID WITH INDIRECTLY COUPLED OUTPUT...\n",
      "33305               DROPLET GENERATOR FOR AN INK JET PRINTER\n",
      "33315                 ADJUSTABLE SWITCHING CURRENT REGULATOR\n",
      "33322                 KEYBOARD WITH CONCAVE AND CONVEX DOMES\n",
      "33331                            SOLID SAND DETECTION PROBES\n",
      "33355                       PHOTOCOMPOSING DEVICE AND METHOD\n",
      "33414                                  AIRCRAFT BRUSH MODULE\n",
      "33499                ELECTRICAL PANEL HAVING MOLDED BASE PAN\n",
      "33504      DEVICE FOR SECURING END CONNECTORS OF ELECTRIC...\n",
      "33529      NONINDUCTIVE FILM-TYPE CYLINDRICAL RESISTOR AN...\n",
      "33532                            ANCHORAGE FOR A MOVING BODY\n",
      "33589      INTERNAL COMBUSTION ENGINE AND D-C FLOATING BA...\n",
      "                                 ...                        \n",
      "7174423    Capturing Structured Data About Previous Event...\n",
      "7174481                   E Z SketX Graph File Folder System\n",
      "7174576    SYSTEM AND METHOD FOR INTEGRATING PUBLIC AND P...\n",
      "7174592    COMPUTING MACHINE WITH AN INEQUALITY COMPUTATI...\n",
      "7174621    METHOD AND SYSTEM FOR ENABLING AUTOMATED AND R...\n",
      "7174623                      BUSINESS SEMANTIC NETWORK BUILD\n",
      "7174626    METHOD AND APPARATUS FOR EXTENDED MANAGEMENT O...\n",
      "7174628    METHOD AND APPARATUS ENABLING VOICE-BASED MANA...\n",
      "7639822    Controlling access to multiple memory zones in...\n",
      "7639824    Controlling access to multiple isolated memori...\n",
      "7639848    System and method for reducing the size of dat...\n",
      "7650734    Emulation, debug and simulation for microproce...\n",
      "7650735    Method and apparatus providing distributed dom...\n",
      "7650738    Method and system for information exchange bet...\n",
      "7675653    Large payload delivery networks having integra...\n",
      "7696034    system and method for using function numbers t...\n",
      "7696035                 Flexible aggregation of output links\n",
      "7696037    Apparatus and methods for caching objects usin...\n",
      "7706520    Fault isolation of individual switch modules i...\n",
      "7706719    System and method for interleaving frames with...\n",
      "7706725    Method and apparatus for network-assisted auto...\n",
      "7706726    Failover apparatus and method for an asynchron...\n",
      "7707714    Routing method and apparatus that utilize diag...\n",
      "7709644                       Instant messaging environments\n",
      "7739207      System of and method for decoding trellis codes\n",
      "7739209    Method and apparatus for providing a multi-mod...\n",
      "7739218      System of and method for decoding trellis codes\n",
      "7954756    Reduction of graphical clutter in computer dis...\n",
      "8046583    SYSTEMS AND METHODS OF DATA STORAGE MANAGEMENT...\n",
      "8165064    COMMUNICATION SIGNAL DECODING WITH ITERATIVE C...\n",
      "Name: invention_title, Length: 103035, dtype: object\n"
     ]
    }
   ],
   "source": [
    "# print(data_cs_new['invention_title'])\n",
    "\n",
    "#counts = data_cs_new['invention_title'].value_counts()\n",
    "\n",
    "#counts = counts.head(20)\n",
    "\n",
    "#print(counts)"
   ]
  },
  {
   "cell_type": "code",
   "execution_count": 36,
   "metadata": {},
   "outputs": [],
   "source": [
    "import gensim\n",
    "from gensim import corpora, models, similarities\n",
    "from itertools import chain\n",
    "import nltk\n",
    "from nltk.corpus import stopwords\n",
    "from operator import itemgetter\n",
    "import re\n",
    "from nltk.stem import WordNetLemmatizer, SnowballStemmer\n",
    "from nltk.stem.porter import *"
   ]
  },
  {
   "cell_type": "code",
   "execution_count": 37,
   "metadata": {},
   "outputs": [],
   "source": [
    "stemmer = SnowballStemmer('english')\n",
    "def lemmatize_stemming(text):\n",
    "    return stemmer.stem(WordNetLemmatizer().lemmatize(text, pos='v'))\n",
    "\n",
    "def preprocess(text):\n",
    "    result = []\n",
    "    for token in gensim.utils.simple_preprocess(text):\n",
    "        if token not in gensim.parsing.preprocessing.STOPWORDS and len(token) > 3:\n",
    "            result.append(lemmatize_stemming(token))\n",
    "    return result"
   ]
  },
  {
   "cell_type": "code",
   "execution_count": 38,
   "metadata": {},
   "outputs": [],
   "source": [
    "processed_docs = data_cs_new['invention_title'].map(preprocess)"
   ]
  },
  {
   "cell_type": "code",
   "execution_count": 39,
   "metadata": {},
   "outputs": [],
   "source": [
    "dictionary = gensim.corpora.Dictionary(processed_docs)"
   ]
  },
  {
   "cell_type": "code",
   "execution_count": 40,
   "metadata": {},
   "outputs": [],
   "source": [
    "dictionary = corpora.Dictionary(text)"
   ]
  },
  {
   "cell_type": "code",
   "execution_count": 41,
   "metadata": {},
   "outputs": [],
   "source": [
    "corpus = [dictionary.doc2bow(text) for text in processed_docs]"
   ]
  },
  {
   "cell_type": "code",
   "execution_count": 42,
   "metadata": {},
   "outputs": [],
   "source": [
    "tfidf = models.TfidfModel(corpus)"
   ]
  },
  {
   "cell_type": "code",
   "execution_count": 43,
   "metadata": {},
   "outputs": [],
   "source": [
    "corpus_tfidf = tfidf[corpus]"
   ]
  },
  {
   "cell_type": "code",
   "execution_count": 44,
   "metadata": {},
   "outputs": [],
   "source": [
    "lsi = models.LsiModel(corpus_tfidf, id2word=dictionary, num_topics=100)\n",
    "#lsi.print_topics(20)\n",
    "n_topics = 20\n",
    "lda = models.LdaModel(corpus_tfidf, id2word=dictionary, num_topics=n_topics)"
   ]
  },
  {
   "cell_type": "code",
   "execution_count": 45,
   "metadata": {
    "collapsed": true
   },
   "outputs": [
    {
     "name": "stdout",
     "output_type": "stream",
     "text": [
      "Top 10 terms for topic #1: content, virtual, multi, document, interact\n",
      "Top 10 terms for topic #2: base, server, state, page, sensor\n",
      "Top 10 terms for topic #3: method, apparatus, monitor, disk, flash\n",
      "Top 10 terms for topic #4: search, perform, error, mode, map\n",
      "Top 10 terms for topic #5: print, head, method, screen, therefor\n",
      "Top 10 terms for topic #6: adjust, convert, track, contain, edit\n",
      "Top 10 terms for topic #7: form, element, apparatus, code, signal\n",
      "Top 10 terms for topic #8: access, drive, motor, synchron, cloud\n",
      "Top 10 terms for topic #9: system, process, method, processor, develop\n",
      "Top 10 terms for topic #10: record, medium, apparatus, method, connect\n",
      "Top 10 terms for topic #11: user, model, implement, mount, custom\n",
      "Top 10 terms for topic #12: display, mobil, digit, function, event\n",
      "Top 10 terms for topic #13: program, electron, method, control, dimension\n",
      "Top 10 terms for topic #14: power, thereof, support, select, method\n",
      "Top 10 terms for topic #15: data, object, method, product, camera\n",
      "Top 10 terms for topic #16: network, store, current, protect, graphic\n",
      "Top 10 terms for topic #17: media, switch, adapt, thermal, parallel\n",
      "Top 10 terms for topic #18: share, high, circuit, address, heat\n",
      "Top 10 terms for topic #19: detect, test, platform, read, focus\n",
      "Top 10 terms for topic #20: control, file, input, method, task\n"
     ]
    }
   ],
   "source": [
    "for i in range(0, n_topics):\n",
    " temp = lda.show_topic(i, 5)\n",
    " terms = []\n",
    " for term in temp:\n",
    "  #terms.append(str(term[1]))\n",
    "  terms.append(term[0])\n",
    " print \"Top 10 terms for topic #\" + str(i+1)+': '+ ', '.join(terms)"
   ]
  },
  {
   "cell_type": "code",
   "execution_count": 34,
   "metadata": {},
   "outputs": [
    {
     "ename": "ImportError",
     "evalue": "No module named pyLDAvis",
     "output_type": "error",
     "traceback": [
      "\u001b[1;31m\u001b[0m",
      "\u001b[1;31mImportError\u001b[0mTraceback (most recent call last)",
      "\u001b[1;32m<ipython-input-34-5b39925f80ec>\u001b[0m in \u001b[0;36m<module>\u001b[1;34m()\u001b[0m\n\u001b[1;32m----> 1\u001b[1;33m \u001b[1;32mimport\u001b[0m \u001b[0mpyLDAvis\u001b[0m\u001b[1;33m\u001b[0m\u001b[0m\n\u001b[0m\u001b[0;32m      2\u001b[0m \u001b[1;33m\u001b[0m\u001b[0m\n\u001b[0;32m      3\u001b[0m \u001b[1;32mimport\u001b[0m \u001b[0mpyLDAvis\u001b[0m\u001b[1;33m.\u001b[0m\u001b[0msklearn\u001b[0m\u001b[1;33m\u001b[0m\u001b[0m\n\u001b[0;32m      4\u001b[0m \u001b[1;33m\u001b[0m\u001b[0m\n\u001b[0;32m      5\u001b[0m \u001b[0mpyLDAvis\u001b[0m\u001b[1;33m.\u001b[0m\u001b[0menable_notebook\u001b[0m\u001b[1;33m(\u001b[0m\u001b[1;33m)\u001b[0m\u001b[1;33m\u001b[0m\u001b[0m\n",
      "\u001b[1;31mImportError\u001b[0m: No module named pyLDAvis"
     ]
    }
   ],
   "source": [
    "import pyLDAvis\n",
    "\n",
    "import pyLDAvis.sklearn\n",
    "\n",
    "pyLDAvis.enable_notebook()\n",
    "\n",
    "pyLDAvis.sklearn.prepare(lda, term)"
   ]
  },
  {
   "cell_type": "code",
   "execution_count": 44,
   "metadata": {},
   "outputs": [
    {
     "ename": "SyntaxError",
     "evalue": "invalid syntax (<ipython-input-44-5cef3afc20a0>, line 3)",
     "output_type": "error",
     "traceback": [
      "\u001b[1;36m  File \u001b[1;32m\"<ipython-input-44-5cef3afc20a0>\"\u001b[1;36m, line \u001b[1;32m3\u001b[0m\n\u001b[1;33m    let https = require('https');\u001b[0m\n\u001b[1;37m            ^\u001b[0m\n\u001b[1;31mSyntaxError\u001b[0m\u001b[1;31m:\u001b[0m invalid syntax\n"
     ]
    }
   ],
   "source": [
    "'use strict';\n",
    "let https = require('https');\n",
    "let host = 'api.cognitive.microsoft.com';\n",
    "let path = '/bing/v7.0/search';\n",
    "let term = 'Microsoft Cognitive Services';\n",
    "\n",
    "let response_handler = function (response) {\n",
    "    let body = '';\n",
    "    response.on('data', function (d) {\n",
    "        body += d;\n",
    "    });\n",
    "    response.on('end', function () {\n",
    "        console.log('\\nRelevant Headers:\\n');\n",
    "        for (var header in response.headers)\n",
    "            // header keys are lower-cased by Node.js\n",
    "            if (header.startsWith(\"bingapis-\") || header.startsWith(\"x-msedge-\"))\n",
    "                 console.log(header + \": \" + response.headers[header]);\n",
    "        body = JSON.stringify(JSON.parse(body), null, '  ');\n",
    "        console.log('\\nJSON Response:\\n');\n",
    "        console.log(body);\n",
    "    });\n",
    "    response.on('error', function (e) {\n",
    "        console.log('Error: ' + e.message);\n",
    "    });\n",
    "};\n",
    "\n",
    "let bing_web_search = function (search) {\n",
    "  console.log('Searching the Web for: ' + term);\n",
    "  let request_params = {\n",
    "        method : 'GET',\n",
    "        hostname : host,\n",
    "        path : path + '?q=' + encodeURIComponent(search),\n",
    "        headers : {\n",
    "            'Ocp-Apim-Subscription-Key' : subscriptionKey,\n",
    "        }\n",
    "    };\n",
    "\n",
    "    let req = https.request(request_params, response_handler);\n",
    "    req.end();\n",
    "}\n",
    "\n",
    "if (subscriptionKey.length === 32) {\n",
    "    bing_web_search(term);\n",
    "} else {\n",
    "    console.log('Invalid Bing Search API subscription key!');\n",
    "    console.log('Please paste yours into the source code.');\n",
    "}"
   ]
  },
  {
   "cell_type": "code",
   "execution_count": null,
   "metadata": {},
   "outputs": [],
   "source": []
  }
 ],
 "metadata": {
  "kernelspec": {
   "display_name": "Python 2",
   "language": "python",
   "name": "python2"
  },
  "language_info": {
   "codemirror_mode": {
    "name": "ipython",
    "version": 2
   },
   "file_extension": ".py",
   "mimetype": "text/x-python",
   "name": "python",
   "nbconvert_exporter": "python",
   "pygments_lexer": "ipython2",
   "version": "2.7.15"
  }
 },
 "nbformat": 4,
 "nbformat_minor": 2
}
