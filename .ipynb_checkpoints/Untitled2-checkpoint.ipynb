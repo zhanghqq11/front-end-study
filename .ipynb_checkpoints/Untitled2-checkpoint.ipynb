{
 "cells": [
  {
   "cell_type": "code",
   "execution_count": 1,
   "metadata": {},
   "outputs": [],
   "source": [
    "import os\n",
    "import numpy as np\n",
    "import sys\n",
    "from pandas import Series, DataFrame\n",
    "import nltk\n",
    "import pandas as pd\n",
    "pd.set_option('display.float_format', lambda x: '%.5f' % x)"
   ]
  },
  {
   "cell_type": "code",
   "execution_count": 2,
   "metadata": {},
   "outputs": [
    {
     "name": "stderr",
     "output_type": "stream",
     "text": [
      "C:\\Users\\83821\\Anaconda3\\envs\\python_2.7\\lib\\site-packages\\IPython\\core\\interactiveshell.py:2714: DtypeWarning: Columns (0,8,9,10,17,18,19,21,22,23) have mixed types. Specify dtype option on import or set low_memory=False.\n",
      "  interactivity=interactivity, compiler=compiler, result=result)\n"
     ]
    },
    {
     "name": "stdout",
     "output_type": "stream",
     "text": [
      "        examiner_art_unit                                    invention_title\n",
      "32775          2101.00000  METHOD AND MEANS TO RENDER OBJECTS UNCOPYABLE ...\n",
      "32810          2102.00000                    COLOR IMAGE FORMATION APPARATUS\n",
      "32814          2102.00000  SUPERCONDUCTIVE EXCITER WINDING FOR A TURBOGEN...\n",
      "32839          2102.00000                                         COMMUTATOR\n",
      "32841          2102.00000                                     ELECTRIC MOTOR\n",
      "32852          2102.00000  SERIES CAPACITOR SYSTEM WITH FORCE FIRING OF P...\n",
      "32898          2103.00000                               HAND-HELD HAIR DRYER\n",
      "33001          2103.00000  SUPPORT INSULATOR FOR GAS-FILLED HIGH-VOLTAGE BUS\n",
      "33015          2107.00000  ELECTRONIC TIMEPIECE AND DIGITAL DISPLAY THEREFOR\n",
      "33027          2102.00000           FERRORESONANT VOLTAGE REGULATING CIRCUIT\n",
      "33030          2103.00000          METHOD AND APPARATUS FOR ASSEMBLING RINGS\n",
      "33031          2107.00000  STATIONARY CONTACT STRUCTURE FOR HIGH VOLTAGE ...\n",
      "33035          2101.00000                           COPY PRODUCTION MACHINES\n",
      "33042          2101.00000                              MULTIPLE IMAGE CAMERA\n",
      "33103          2105.00000                        VARIABLE FUNCTION GENERATOR\n",
      "33205          2105.00000                                COPYING ARRANGEMENT\n",
      "33282          2103.00000                       SOLID STATE FORCE TRANSDUCER\n",
      "33283          2102.00000                                   TACKLE BOX LIGHT\n",
      "33284          2102.00000  ROTARY SOLENOID WITH INDIRECTLY COUPLED OUTPUT...\n",
      "33305          2101.00000           DROPLET GENERATOR FOR AN INK JET PRINTER\n",
      "33315          2102.00000             ADJUSTABLE SWITCHING CURRENT REGULATOR\n",
      "33322          2107.00000             KEYBOARD WITH CONCAVE AND CONVEX DOMES\n",
      "33331          2102.00000                        SOLID SAND DETECTION PROBES\n",
      "33355          2101.00000                   PHOTOCOMPOSING DEVICE AND METHOD\n",
      "33414          2102.00000                              AIRCRAFT BRUSH MODULE\n",
      "33499          2105.00000            ELECTRICAL PANEL HAVING MOLDED BASE PAN\n",
      "33504          2102.00000  DEVICE FOR SECURING END CONNECTORS OF ELECTRIC...\n",
      "33529          2103.00000  NONINDUCTIVE FILM-TYPE CYLINDRICAL RESISTOR AN...\n",
      "33532          2101.00000                        ANCHORAGE FOR A MOVING BODY\n",
      "33589          2107.00000  INTERNAL COMBUSTION ENGINE AND D-C FLOATING BA...\n",
      "...                   ...                                                ...\n",
      "7174423        2178.00000  Capturing Structured Data About Previous Event...\n",
      "7174481        2178.00000                 E Z SketX Graph File Folder System\n",
      "7174576        2157.00000  SYSTEM AND METHOD FOR INTEGRATING PUBLIC AND P...\n",
      "7174592        2193.00000  COMPUTING MACHINE WITH AN INEQUALITY COMPUTATI...\n",
      "7174621        2129.00000  METHOD AND SYSTEM FOR ENABLING AUTOMATED AND R...\n",
      "7174623        2129.00000                    BUSINESS SEMANTIC NETWORK BUILD\n",
      "7174626        2141.00000  METHOD AND APPARATUS FOR EXTENDED MANAGEMENT O...\n",
      "7174628        2141.00000  METHOD AND APPARATUS ENABLING VOICE-BASED MANA...\n",
      "7639822        2187.00000  Controlling access to multiple memory zones in...\n",
      "7639824        2131.00000  Controlling access to multiple isolated memori...\n",
      "7639848        2152.00000  System and method for reducing the size of dat...\n",
      "7650734        2123.00000  Emulation, debug and simulation for microproce...\n",
      "7650735        2152.00000  Method and apparatus providing distributed dom...\n",
      "7650738        2152.00000  Method and system for information exchange bet...\n",
      "7675653        2151.00000  Large payload delivery networks having integra...\n",
      "7696034        2182.00000  system and method for using function numbers t...\n",
      "7696035        2152.00000               Flexible aggregation of output links\n",
      "7696037        2121.00000  Apparatus and methods for caching objects usin...\n",
      "7706520        2184.00000  Fault isolation of individual switch modules i...\n",
      "7706719        2182.00000  System and method for interleaving frames with...\n",
      "7706725        2152.00000  Method and apparatus for network-assisted auto...\n",
      "7706726        2184.00000  Failover apparatus and method for an asynchron...\n",
      "7707714        2123.00000  Routing method and apparatus that utilize diag...\n",
      "7709644        2152.00000                     Instant messaging environments\n",
      "7739207        2182.00000    System of and method for decoding trellis codes\n",
      "7739209        2121.00000  Method and apparatus for providing a multi-mod...\n",
      "7739218        2184.00000    System of and method for decoding trellis codes\n",
      "7954756        2173.00000  Reduction of graphical clutter in computer dis...\n",
      "8046583        2139.00000  SYSTEMS AND METHODS OF DATA STORAGE MANAGEMENT...\n",
      "8165064        2112.00000  COMMUNICATION SIGNAL DECODING WITH ITERATIVE C...\n",
      "\n",
      "[103035 rows x 2 columns]\n"
     ]
    }
   ],
   "source": [
    "data_all = pd.read_csv(\"D:dataset/application_data.csv\")\n",
    "\n",
    "data_all = data_all.filter(items = ['examiner_art_unit','invention_title'])\n",
    "\n",
    "data_all = data_all.dropna(axis = 0, how = 'any')\n",
    "\n",
    "data_cs_new = data_all.loc[(data_all['examiner_art_unit'] > 2100) & (data_all['examiner_art_unit'] < 2200),:]\n",
    "\n",
    "\n",
    "print(data_cs_new)"
   ]
  },
  {
   "cell_type": "code",
   "execution_count": 8,
   "metadata": {},
   "outputs": [
    {
     "name": "stderr",
     "output_type": "stream",
     "text": [
      "C:\\Users\\83821\\Anaconda3\\envs\\python_2.7\\lib\\site-packages\\ipykernel_launcher.py:2: SettingWithCopyWarning: \n",
      "A value is trying to be set on a copy of a slice from a DataFrame\n",
      "\n",
      "See the caveats in the documentation: http://pandas.pydata.org/pandas-docs/stable/indexing.html#indexing-view-versus-copy\n",
      "  \n"
     ]
    }
   ],
   "source": [
    "data_text = data_cs_new['invention_title']\n",
    "data_text['index'] = data_text.index\n",
    "documents = data_text"
   ]
  },
  {
   "cell_type": "code",
   "execution_count": 9,
   "metadata": {},
   "outputs": [
    {
     "name": "stdout",
     "output_type": "stream",
     "text": [
      "[nltk_data] Downloading package wordnet to\n",
      "[nltk_data]     C:\\Users\\83821\\AppData\\Roaming\\nltk_data...\n",
      "[nltk_data]   Package wordnet is already up-to-date!\n"
     ]
    },
    {
     "data": {
      "text/plain": [
       "True"
      ]
     },
     "execution_count": 9,
     "metadata": {},
     "output_type": "execute_result"
    }
   ],
   "source": [
    "import gensim\n",
    "from gensim.utils import simple_preprocess\n",
    "from gensim.parsing.preprocessing import STOPWORDS\n",
    "from nltk.stem import WordNetLemmatizer, SnowballStemmer\n",
    "from nltk.stem.porter import *\n",
    "import numpy as np\n",
    "np.random.seed(2018)\n",
    "import nltk\n",
    "nltk.download('wordnet')"
   ]
  },
  {
   "cell_type": "code",
   "execution_count": 18,
   "metadata": {},
   "outputs": [],
   "source": [
    "stemmer = PorterStemmer()\n",
    "def lemmatize_stemming(text):\n",
    "    \n",
    "    return stemmer.stem(WordNetLemmatizer().lemmatize(text, pos='v'))\n",
    "def preprocess(text):\n",
    "    result = []\n",
    "    for token in gensim.utils.simple_preprocess(text):\n",
    "        if token not in gensim.parsing.preprocessing.STOPWORDS and len(token) > 3:\n",
    "            result.append(lemmatize_stemming(token))\n",
    "    return result"
   ]
  },
  {
   "cell_type": "code",
   "execution_count": 19,
   "metadata": {},
   "outputs": [
    {
     "ename": "TypeError",
     "evalue": "coercing to Unicode: need string or buffer, Index found",
     "output_type": "error",
     "traceback": [
      "\u001b[1;31m\u001b[0m",
      "\u001b[1;31mTypeError\u001b[0mTraceback (most recent call last)",
      "\u001b[1;32m<ipython-input-19-6a04605d4c80>\u001b[0m in \u001b[0;36m<module>\u001b[1;34m()\u001b[0m\n\u001b[1;32m----> 1\u001b[1;33m \u001b[0mprocessed_docs\u001b[0m \u001b[1;33m=\u001b[0m \u001b[0mdata_cs_new\u001b[0m\u001b[1;33m[\u001b[0m\u001b[1;34m'invention_title'\u001b[0m\u001b[1;33m]\u001b[0m\u001b[1;33m.\u001b[0m\u001b[0mmap\u001b[0m\u001b[1;33m(\u001b[0m\u001b[0mpreprocess\u001b[0m\u001b[1;33m)\u001b[0m\u001b[1;33m\u001b[0m\u001b[0m\n\u001b[0m\u001b[0;32m      2\u001b[0m \u001b[0mprocessed_docs\u001b[0m\u001b[1;33m[\u001b[0m\u001b[1;33m:\u001b[0m\u001b[1;36m10\u001b[0m\u001b[1;33m]\u001b[0m\u001b[1;33m\u001b[0m\u001b[0m\n",
      "\u001b[1;32mC:\\Users\\83821\\Anaconda3\\envs\\python_2.7\\lib\\site-packages\\pandas\\core\\series.pyc\u001b[0m in \u001b[0;36mmap\u001b[1;34m(self, arg, na_action)\u001b[0m\n\u001b[0;32m   2996\u001b[0m         \"\"\"\n\u001b[0;32m   2997\u001b[0m         new_values = super(Series, self)._map_values(\n\u001b[1;32m-> 2998\u001b[1;33m             arg, na_action=na_action)\n\u001b[0m\u001b[0;32m   2999\u001b[0m         return self._constructor(new_values,\n\u001b[0;32m   3000\u001b[0m                                  index=self.index).__finalize__(self)\n",
      "\u001b[1;32mC:\\Users\\83821\\Anaconda3\\envs\\python_2.7\\lib\\site-packages\\pandas\\core\\base.pyc\u001b[0m in \u001b[0;36m_map_values\u001b[1;34m(self, mapper, na_action)\u001b[0m\n\u001b[0;32m   1002\u001b[0m \u001b[1;33m\u001b[0m\u001b[0m\n\u001b[0;32m   1003\u001b[0m         \u001b[1;31m# mapper is a function\u001b[0m\u001b[1;33m\u001b[0m\u001b[1;33m\u001b[0m\u001b[0m\n\u001b[1;32m-> 1004\u001b[1;33m         \u001b[0mnew_values\u001b[0m \u001b[1;33m=\u001b[0m \u001b[0mmap_f\u001b[0m\u001b[1;33m(\u001b[0m\u001b[0mvalues\u001b[0m\u001b[1;33m,\u001b[0m \u001b[0mmapper\u001b[0m\u001b[1;33m)\u001b[0m\u001b[1;33m\u001b[0m\u001b[0m\n\u001b[0m\u001b[0;32m   1005\u001b[0m \u001b[1;33m\u001b[0m\u001b[0m\n\u001b[0;32m   1006\u001b[0m         \u001b[1;32mreturn\u001b[0m \u001b[0mnew_values\u001b[0m\u001b[1;33m\u001b[0m\u001b[0m\n",
      "\u001b[1;32mpandas/_libs/src\\inference.pyx\u001b[0m in \u001b[0;36mpandas._libs.lib.map_infer\u001b[1;34m()\u001b[0m\n",
      "\u001b[1;32m<ipython-input-18-486b03838cc6>\u001b[0m in \u001b[0;36mpreprocess\u001b[1;34m(text)\u001b[0m\n\u001b[0;32m      5\u001b[0m \u001b[1;32mdef\u001b[0m \u001b[0mpreprocess\u001b[0m\u001b[1;33m(\u001b[0m\u001b[0mtext\u001b[0m\u001b[1;33m)\u001b[0m\u001b[1;33m:\u001b[0m\u001b[1;33m\u001b[0m\u001b[0m\n\u001b[0;32m      6\u001b[0m     \u001b[0mresult\u001b[0m \u001b[1;33m=\u001b[0m \u001b[1;33m[\u001b[0m\u001b[1;33m]\u001b[0m\u001b[1;33m\u001b[0m\u001b[0m\n\u001b[1;32m----> 7\u001b[1;33m     \u001b[1;32mfor\u001b[0m \u001b[0mtoken\u001b[0m \u001b[1;32min\u001b[0m \u001b[0mgensim\u001b[0m\u001b[1;33m.\u001b[0m\u001b[0mutils\u001b[0m\u001b[1;33m.\u001b[0m\u001b[0msimple_preprocess\u001b[0m\u001b[1;33m(\u001b[0m\u001b[0mtext\u001b[0m\u001b[1;33m)\u001b[0m\u001b[1;33m:\u001b[0m\u001b[1;33m\u001b[0m\u001b[0m\n\u001b[0m\u001b[0;32m      8\u001b[0m         \u001b[1;32mif\u001b[0m \u001b[0mtoken\u001b[0m \u001b[1;32mnot\u001b[0m \u001b[1;32min\u001b[0m \u001b[0mgensim\u001b[0m\u001b[1;33m.\u001b[0m\u001b[0mparsing\u001b[0m\u001b[1;33m.\u001b[0m\u001b[0mpreprocessing\u001b[0m\u001b[1;33m.\u001b[0m\u001b[0mSTOPWORDS\u001b[0m \u001b[1;32mand\u001b[0m \u001b[0mlen\u001b[0m\u001b[1;33m(\u001b[0m\u001b[0mtoken\u001b[0m\u001b[1;33m)\u001b[0m \u001b[1;33m>\u001b[0m \u001b[1;36m3\u001b[0m\u001b[1;33m:\u001b[0m\u001b[1;33m\u001b[0m\u001b[0m\n\u001b[0;32m      9\u001b[0m             \u001b[0mresult\u001b[0m\u001b[1;33m.\u001b[0m\u001b[0mappend\u001b[0m\u001b[1;33m(\u001b[0m\u001b[0mlemmatize_stemming\u001b[0m\u001b[1;33m(\u001b[0m\u001b[0mtoken\u001b[0m\u001b[1;33m)\u001b[0m\u001b[1;33m)\u001b[0m\u001b[1;33m\u001b[0m\u001b[0m\n",
      "\u001b[1;32mC:\\Users\\83821\\Anaconda3\\envs\\python_2.7\\lib\\site-packages\\gensim\\utils.pyc\u001b[0m in \u001b[0;36msimple_preprocess\u001b[1;34m(doc, deacc, min_len, max_len)\u001b[0m\n\u001b[0;32m    303\u001b[0m     \"\"\"\n\u001b[0;32m    304\u001b[0m     tokens = [\n\u001b[1;32m--> 305\u001b[1;33m         \u001b[0mtoken\u001b[0m \u001b[1;32mfor\u001b[0m \u001b[0mtoken\u001b[0m \u001b[1;32min\u001b[0m \u001b[0mtokenize\u001b[0m\u001b[1;33m(\u001b[0m\u001b[0mdoc\u001b[0m\u001b[1;33m,\u001b[0m \u001b[0mlower\u001b[0m\u001b[1;33m=\u001b[0m\u001b[0mTrue\u001b[0m\u001b[1;33m,\u001b[0m \u001b[0mdeacc\u001b[0m\u001b[1;33m=\u001b[0m\u001b[0mdeacc\u001b[0m\u001b[1;33m,\u001b[0m \u001b[0merrors\u001b[0m\u001b[1;33m=\u001b[0m\u001b[1;34m'ignore'\u001b[0m\u001b[1;33m)\u001b[0m\u001b[1;33m\u001b[0m\u001b[0m\n\u001b[0m\u001b[0;32m    306\u001b[0m         \u001b[1;32mif\u001b[0m \u001b[0mmin_len\u001b[0m \u001b[1;33m<=\u001b[0m \u001b[0mlen\u001b[0m\u001b[1;33m(\u001b[0m\u001b[0mtoken\u001b[0m\u001b[1;33m)\u001b[0m \u001b[1;33m<=\u001b[0m \u001b[0mmax_len\u001b[0m \u001b[1;32mand\u001b[0m \u001b[1;32mnot\u001b[0m \u001b[0mtoken\u001b[0m\u001b[1;33m.\u001b[0m\u001b[0mstartswith\u001b[0m\u001b[1;33m(\u001b[0m\u001b[1;34m'_'\u001b[0m\u001b[1;33m)\u001b[0m\u001b[1;33m\u001b[0m\u001b[0m\n\u001b[0;32m    307\u001b[0m     ]\n",
      "\u001b[1;32mC:\\Users\\83821\\Anaconda3\\envs\\python_2.7\\lib\\site-packages\\gensim\\utils.pyc\u001b[0m in \u001b[0;36mtokenize\u001b[1;34m(text, lowercase, deacc, encoding, errors, to_lower, lower)\u001b[0m\n\u001b[0;32m    255\u001b[0m     \"\"\"\n\u001b[0;32m    256\u001b[0m     \u001b[0mlowercase\u001b[0m \u001b[1;33m=\u001b[0m \u001b[0mlowercase\u001b[0m \u001b[1;32mor\u001b[0m \u001b[0mto_lower\u001b[0m \u001b[1;32mor\u001b[0m \u001b[0mlower\u001b[0m\u001b[1;33m\u001b[0m\u001b[0m\n\u001b[1;32m--> 257\u001b[1;33m     \u001b[0mtext\u001b[0m \u001b[1;33m=\u001b[0m \u001b[0mto_unicode\u001b[0m\u001b[1;33m(\u001b[0m\u001b[0mtext\u001b[0m\u001b[1;33m,\u001b[0m \u001b[0mencoding\u001b[0m\u001b[1;33m,\u001b[0m \u001b[0merrors\u001b[0m\u001b[1;33m=\u001b[0m\u001b[0merrors\u001b[0m\u001b[1;33m)\u001b[0m\u001b[1;33m\u001b[0m\u001b[0m\n\u001b[0m\u001b[0;32m    258\u001b[0m     \u001b[1;32mif\u001b[0m \u001b[0mlowercase\u001b[0m\u001b[1;33m:\u001b[0m\u001b[1;33m\u001b[0m\u001b[0m\n\u001b[0;32m    259\u001b[0m         \u001b[0mtext\u001b[0m \u001b[1;33m=\u001b[0m \u001b[0mtext\u001b[0m\u001b[1;33m.\u001b[0m\u001b[0mlower\u001b[0m\u001b[1;33m(\u001b[0m\u001b[1;33m)\u001b[0m\u001b[1;33m\u001b[0m\u001b[0m\n",
      "\u001b[1;32mC:\\Users\\83821\\Anaconda3\\envs\\python_2.7\\lib\\site-packages\\gensim\\utils.pyc\u001b[0m in \u001b[0;36many2unicode\u001b[1;34m(text, encoding, errors)\u001b[0m\n\u001b[0;32m    357\u001b[0m     \u001b[1;32mif\u001b[0m \u001b[0misinstance\u001b[0m\u001b[1;33m(\u001b[0m\u001b[0mtext\u001b[0m\u001b[1;33m,\u001b[0m \u001b[0municode\u001b[0m\u001b[1;33m)\u001b[0m\u001b[1;33m:\u001b[0m\u001b[1;33m\u001b[0m\u001b[0m\n\u001b[0;32m    358\u001b[0m         \u001b[1;32mreturn\u001b[0m \u001b[0mtext\u001b[0m\u001b[1;33m\u001b[0m\u001b[0m\n\u001b[1;32m--> 359\u001b[1;33m     \u001b[1;32mreturn\u001b[0m \u001b[0municode\u001b[0m\u001b[1;33m(\u001b[0m\u001b[0mtext\u001b[0m\u001b[1;33m,\u001b[0m \u001b[0mencoding\u001b[0m\u001b[1;33m,\u001b[0m \u001b[0merrors\u001b[0m\u001b[1;33m=\u001b[0m\u001b[0merrors\u001b[0m\u001b[1;33m)\u001b[0m\u001b[1;33m\u001b[0m\u001b[0m\n\u001b[0m\u001b[0;32m    360\u001b[0m \u001b[1;33m\u001b[0m\u001b[0m\n\u001b[0;32m    361\u001b[0m \u001b[1;33m\u001b[0m\u001b[0m\n",
      "\u001b[1;31mTypeError\u001b[0m: coercing to Unicode: need string or buffer, Index found"
     ]
    }
   ],
   "source": [
    "processed_docs = data_cs_new['invention_title'].map(preprocess)\n",
    "data_cs_new['invention_title'] = data_cs_new['invention_title'].apply(lambda row : word_tokenize(row))\n",
    "processed_docs[:10]"
   ]
  },
  {
   "cell_type": "code",
   "execution_count": null,
   "metadata": {},
   "outputs": [],
   "source": []
  }
 ],
 "metadata": {
  "kernelspec": {
   "display_name": "Python 2",
   "language": "python",
   "name": "python2"
  },
  "language_info": {
   "codemirror_mode": {
    "name": "ipython",
    "version": 2
   },
   "file_extension": ".py",
   "mimetype": "text/x-python",
   "name": "python",
   "nbconvert_exporter": "python",
   "pygments_lexer": "ipython2",
   "version": "2.7.15"
  }
 },
 "nbformat": 4,
 "nbformat_minor": 2
}
