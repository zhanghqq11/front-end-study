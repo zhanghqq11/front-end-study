{
 "cells": [
  {
   "cell_type": "code",
   "execution_count": 12,
   "metadata": {},
   "outputs": [],
   "source": [
    "import pandas as pd\n",
    "\n",
    "data = pd.read_csv('/Users/Denzic/Desktop/abcnews-date-text.csv', error_bad_lines=False);\n",
    "data_text = data[['headline_text']]\n",
    "data_text['index'] = data_text.index\n",
    "documents = data_text"
   ]
  },
  {
   "cell_type": "code",
   "execution_count": 15,
   "metadata": {},
   "outputs": [],
   "source": [
    "import warnings\n",
    "warnings.filterwarnings(action='ignore', category=UserWarning, module='gensim')\n",
    "import gensim\n",
    "from gensim.utils import simple_preprocess\n",
    "from gensim.parsing.preprocessing import STOPWORDS\n",
    "from nltk.stem import WordNetLemmatizer, SnowballStemmer\n",
    "from nltk.stem.porter import *\n",
    "import numpy as np\n",
    "np.random.seed(2018)"
   ]
  },
  {
   "cell_type": "code",
   "execution_count": 16,
   "metadata": {
    "collapsed": true
   },
   "outputs": [
    {
     "name": "stdout",
     "output_type": "stream",
     "text": [
      "[nltk_data] Downloading package wordnet to\n",
      "[nltk_data]     C:\\Users\\Denzic\\AppData\\Roaming\\nltk_data...\n",
      "[nltk_data]   Package wordnet is already up-to-date!\n"
     ]
    },
    {
     "data": {
      "text/plain": [
       "True"
      ]
     },
     "execution_count": 16,
     "metadata": {},
     "output_type": "execute_result"
    }
   ],
   "source": [
    "import nltk\n",
    "nltk.download('wordnet')"
   ]
  },
  {
   "cell_type": "code",
   "execution_count": 17,
   "metadata": {
    "collapsed": true
   },
   "outputs": [
    {
     "data": {
      "text/html": [
       "<div>\n",
       "<style scoped>\n",
       "    .dataframe tbody tr th:only-of-type {\n",
       "        vertical-align: middle;\n",
       "    }\n",
       "\n",
       "    .dataframe tbody tr th {\n",
       "        vertical-align: top;\n",
       "    }\n",
       "\n",
       "    .dataframe thead th {\n",
       "        text-align: right;\n",
       "    }\n",
       "</style>\n",
       "<table border=\"1\" class=\"dataframe\">\n",
       "  <thead>\n",
       "    <tr style=\"text-align: right;\">\n",
       "      <th></th>\n",
       "      <th>original word</th>\n",
       "      <th>stemmed</th>\n",
       "    </tr>\n",
       "  </thead>\n",
       "  <tbody>\n",
       "    <tr>\n",
       "      <th>0</th>\n",
       "      <td>caresses</td>\n",
       "      <td>caress</td>\n",
       "    </tr>\n",
       "    <tr>\n",
       "      <th>1</th>\n",
       "      <td>flies</td>\n",
       "      <td>fli</td>\n",
       "    </tr>\n",
       "    <tr>\n",
       "      <th>2</th>\n",
       "      <td>dies</td>\n",
       "      <td>die</td>\n",
       "    </tr>\n",
       "    <tr>\n",
       "      <th>3</th>\n",
       "      <td>mules</td>\n",
       "      <td>mule</td>\n",
       "    </tr>\n",
       "    <tr>\n",
       "      <th>4</th>\n",
       "      <td>denied</td>\n",
       "      <td>deni</td>\n",
       "    </tr>\n",
       "    <tr>\n",
       "      <th>5</th>\n",
       "      <td>died</td>\n",
       "      <td>die</td>\n",
       "    </tr>\n",
       "    <tr>\n",
       "      <th>6</th>\n",
       "      <td>agreed</td>\n",
       "      <td>agre</td>\n",
       "    </tr>\n",
       "    <tr>\n",
       "      <th>7</th>\n",
       "      <td>owned</td>\n",
       "      <td>own</td>\n",
       "    </tr>\n",
       "    <tr>\n",
       "      <th>8</th>\n",
       "      <td>humbled</td>\n",
       "      <td>humbl</td>\n",
       "    </tr>\n",
       "    <tr>\n",
       "      <th>9</th>\n",
       "      <td>sized</td>\n",
       "      <td>size</td>\n",
       "    </tr>\n",
       "    <tr>\n",
       "      <th>10</th>\n",
       "      <td>meeting</td>\n",
       "      <td>meet</td>\n",
       "    </tr>\n",
       "    <tr>\n",
       "      <th>11</th>\n",
       "      <td>stating</td>\n",
       "      <td>state</td>\n",
       "    </tr>\n",
       "    <tr>\n",
       "      <th>12</th>\n",
       "      <td>siezing</td>\n",
       "      <td>siez</td>\n",
       "    </tr>\n",
       "    <tr>\n",
       "      <th>13</th>\n",
       "      <td>itemization</td>\n",
       "      <td>item</td>\n",
       "    </tr>\n",
       "    <tr>\n",
       "      <th>14</th>\n",
       "      <td>sensational</td>\n",
       "      <td>sensat</td>\n",
       "    </tr>\n",
       "    <tr>\n",
       "      <th>15</th>\n",
       "      <td>traditional</td>\n",
       "      <td>tradit</td>\n",
       "    </tr>\n",
       "    <tr>\n",
       "      <th>16</th>\n",
       "      <td>reference</td>\n",
       "      <td>refer</td>\n",
       "    </tr>\n",
       "    <tr>\n",
       "      <th>17</th>\n",
       "      <td>colonizer</td>\n",
       "      <td>colon</td>\n",
       "    </tr>\n",
       "    <tr>\n",
       "      <th>18</th>\n",
       "      <td>plotted</td>\n",
       "      <td>plot</td>\n",
       "    </tr>\n",
       "  </tbody>\n",
       "</table>\n",
       "</div>"
      ],
      "text/plain": [
       "   original word stemmed\n",
       "0       caresses  caress\n",
       "1          flies     fli\n",
       "2           dies     die\n",
       "3          mules    mule\n",
       "4         denied    deni\n",
       "5           died     die\n",
       "6         agreed    agre\n",
       "7          owned     own\n",
       "8        humbled   humbl\n",
       "9          sized    size\n",
       "10       meeting    meet\n",
       "11       stating   state\n",
       "12       siezing    siez\n",
       "13   itemization    item\n",
       "14   sensational  sensat\n",
       "15   traditional  tradit\n",
       "16     reference   refer\n",
       "17     colonizer   colon\n",
       "18       plotted    plot"
      ]
     },
     "execution_count": 17,
     "metadata": {},
     "output_type": "execute_result"
    }
   ],
   "source": [
    "stemmer = SnowballStemmer('english')\n",
    "original_words = ['caresses', 'flies', 'dies', 'mules', 'denied','died', 'agreed', 'owned', \n",
    "           'humbled', 'sized','meeting', 'stating', 'siezing', 'itemization','sensational', \n",
    "           'traditional', 'reference', 'colonizer','plotted']\n",
    "singles = [stemmer.stem(plural) for plural in original_words]\n",
    "pd.DataFrame(data = {'original word': original_words, 'stemmed': singles})"
   ]
  },
  {
   "cell_type": "code",
   "execution_count": 18,
   "metadata": {},
   "outputs": [],
   "source": [
    "def lemmatize_stemming(text):\n",
    "    return stemmer.stem(WordNetLemmatizer().lemmatize(text, pos='v'))\n",
    "\n",
    "def preprocess(text):\n",
    "    result = []\n",
    "    for token in gensim.utils.simple_preprocess(text):\n",
    "        if token not in gensim.parsing.preprocessing.STOPWORDS and len(token) > 3:\n",
    "            result.append(lemmatize_stemming(token))\n",
    "    return result"
   ]
  },
  {
   "cell_type": "code",
   "execution_count": 19,
   "metadata": {},
   "outputs": [
    {
     "name": "stdout",
     "output_type": "stream",
     "text": [
      "original document: \n",
      "['rain', 'helps', 'dampen', 'bushfires']\n",
      "\n",
      "\n",
      " tokenized and lemmatized document: \n",
      "[u'rain', u'help', u'dampen', u'bushfir']\n"
     ]
    }
   ],
   "source": [
    "doc_sample = documents[documents['index'] == 4310].values[0][0]\n",
    "\n",
    "print('original document: ')\n",
    "words = []\n",
    "for word in doc_sample.split(' '):\n",
    "    words.append(word)\n",
    "print(words)\n",
    "print('\\n\\n tokenized and lemmatized document: ')\n",
    "print(preprocess(doc_sample))"
   ]
  },
  {
   "cell_type": "code",
   "execution_count": 20,
   "metadata": {},
   "outputs": [],
   "source": [
    "processed_docs = documents['headline_text'].map(preprocess)"
   ]
  },
  {
   "cell_type": "code",
   "execution_count": 21,
   "metadata": {},
   "outputs": [],
   "source": [
    "dictionary = gensim.corpora.Dictionary(processed_docs)"
   ]
  },
  {
   "cell_type": "code",
   "execution_count": 22,
   "metadata": {},
   "outputs": [
    {
     "name": "stdout",
     "output_type": "stream",
     "text": [
      "(37620, u'idairi')\n",
      "(7958, u'verplank')\n",
      "(34857, u'mdba')\n",
      "(49733, u'comprimis')\n",
      "(13916, u'woodi')\n",
      "(36777, u'gavar')\n",
      "(45245, u'sonja')\n",
      "(38275, u'tilton')\n",
      "(26952, u'suzann')\n",
      "(26219, u'gavan')\n",
      "(14482, u'francesco')\n"
     ]
    }
   ],
   "source": [
    "count = 0\n",
    "for k, v in dictionary.iteritems():\n",
    "    print(k, v)\n",
    "    count += 1\n",
    "    if count > 10:\n",
    "        break"
   ]
  },
  {
   "cell_type": "code",
   "execution_count": 23,
   "metadata": {},
   "outputs": [],
   "source": [
    "dictionary.filter_extremes(no_below=15, no_above=0.5, keep_n=100000)"
   ]
  },
  {
   "cell_type": "code",
   "execution_count": 24,
   "metadata": {},
   "outputs": [
    {
     "data": {
      "text/plain": [
       "[(76, 1), (112, 1), (483, 1), (4014, 1)]"
      ]
     },
     "execution_count": 24,
     "metadata": {},
     "output_type": "execute_result"
    }
   ],
   "source": [
    "bow_corpus = [dictionary.doc2bow(doc) for doc in processed_docs]\n",
    "bow_corpus[4310]"
   ]
  },
  {
   "cell_type": "code",
   "execution_count": 25,
   "metadata": {},
   "outputs": [
    {
     "name": "stdout",
     "output_type": "stream",
     "text": [
      "Word 76 (\"bushfir\") appears 1 time.\n",
      "Word 112 (\"help\") appears 1 time.\n",
      "Word 483 (\"rain\") appears 1 time.\n",
      "Word 4014 (\"dampen\") appears 1 time.\n"
     ]
    }
   ],
   "source": [
    "bow_doc_4310 = bow_corpus[4310]\n",
    "\n",
    "for i in range(len(bow_doc_4310)):\n",
    "    print(\"Word {} (\\\"{}\\\") appears {} time.\".format(bow_doc_4310[i][0], \n",
    "                                                     dictionary[bow_doc_4310[i][0]], \n",
    "                                                     bow_doc_4310[i][1]))"
   ]
  },
  {
   "cell_type": "code",
   "execution_count": 26,
   "metadata": {},
   "outputs": [],
   "source": [
    "from gensim import corpora, models\n",
    "\n",
    "tfidf = models.TfidfModel(bow_corpus)"
   ]
  },
  {
   "cell_type": "code",
   "execution_count": 27,
   "metadata": {},
   "outputs": [],
   "source": [
    "corpus_tfidf = tfidf[bow_corpus]"
   ]
  },
  {
   "cell_type": "code",
   "execution_count": 28,
   "metadata": {},
   "outputs": [
    {
     "name": "stdout",
     "output_type": "stream",
     "text": [
      "[(0, 0.5892908644709983),\n",
      " (1, 0.38929657403503015),\n",
      " (2, 0.4964985198530063),\n",
      " (3, 0.5046520328695662)]\n"
     ]
    }
   ],
   "source": [
    "from pprint import pprint\n",
    "\n",
    "for doc in corpus_tfidf:\n",
    "    pprint(doc)\n",
    "    break"
   ]
  },
  {
   "cell_type": "code",
   "execution_count": 29,
   "metadata": {},
   "outputs": [],
   "source": [
    "lda_model = gensim.models.LdaMulticore(bow_corpus, num_topics=10, id2word=dictionary, passes=2, workers=2)"
   ]
  },
  {
   "cell_type": "code",
   "execution_count": 38,
   "metadata": {
    "scrolled": true
   },
   "outputs": [
    {
     "name": "stdout",
     "output_type": "stream",
     "text": [
      "Topic: 0 \n",
      "Words: 0.029*\"elect\" + 0.019*\"say\" + 0.018*\"death\" + 0.017*\"hospit\" + 0.016*\"tasmanian\" + 0.015*\"labor\" + 0.013*\"deal\" + 0.013*\"china\" + 0.011*\"polit\" + 0.011*\"talk\"\n",
      "Topic: 1 \n",
      "Words: 0.019*\"nation\" + 0.018*\"coast\" + 0.016*\"help\" + 0.016*\"countri\" + 0.015*\"state\" + 0.015*\"chang\" + 0.014*\"health\" + 0.013*\"hour\" + 0.013*\"indigen\" + 0.012*\"water\"\n",
      "Topic: 2 \n",
      "Words: 0.020*\"canberra\" + 0.018*\"market\" + 0.014*\"rise\" + 0.014*\"west\" + 0.014*\"turnbul\" + 0.014*\"australian\" + 0.013*\"price\" + 0.013*\"share\" + 0.012*\"victoria\" + 0.011*\"bank\"\n",
      "Topic: 3 \n",
      "Words: 0.063*\"polic\" + 0.023*\"crash\" + 0.019*\"interview\" + 0.018*\"miss\" + 0.018*\"shoot\" + 0.016*\"arrest\" + 0.015*\"investig\" + 0.013*\"driver\" + 0.012*\"search\" + 0.011*\"offic\"\n",
      "Topic: 4 \n",
      "Words: 0.029*\"charg\" + 0.027*\"court\" + 0.021*\"murder\" + 0.018*\"woman\" + 0.018*\"face\" + 0.016*\"die\" + 0.016*\"alleg\" + 0.015*\"brisban\" + 0.015*\"live\" + 0.015*\"jail\"\n",
      "Topic: 5 \n",
      "Words: 0.034*\"australia\" + 0.022*\"melbourn\" + 0.021*\"world\" + 0.017*\"open\" + 0.016*\"sydney\" + 0.014*\"final\" + 0.013*\"donald\" + 0.010*\"leagu\" + 0.010*\"take\" + 0.010*\"road\"\n",
      "Topic: 6 \n",
      "Words: 0.026*\"south\" + 0.025*\"kill\" + 0.014*\"island\" + 0.013*\"fall\" + 0.010*\"attack\" + 0.010*\"forc\" + 0.009*\"christma\" + 0.009*\"shark\" + 0.009*\"east\" + 0.007*\"northern\"\n",
      "Topic: 7 \n",
      "Words: 0.015*\"power\" + 0.013*\"farmer\" + 0.013*\"council\" + 0.012*\"busi\" + 0.011*\"guilti\" + 0.010*\"region\" + 0.010*\"feder\" + 0.009*\"industri\" + 0.009*\"research\" + 0.009*\"futur\"\n",
      "Topic: 8 \n",
      "Words: 0.036*\"trump\" + 0.031*\"australian\" + 0.019*\"queensland\" + 0.014*\"australia\" + 0.014*\"leav\" + 0.014*\"report\" + 0.011*\"show\" + 0.011*\"say\" + 0.011*\"royal\" + 0.010*\"game\"\n",
      "Topic: 9 \n",
      "Words: 0.036*\"govern\" + 0.021*\"test\" + 0.018*\"rural\" + 0.014*\"break\" + 0.012*\"school\" + 0.012*\"news\" + 0.010*\"violenc\" + 0.010*\"worker\" + 0.010*\"say\" + 0.009*\"premier\"\n"
     ]
    }
   ],
   "source": [
    "for idx, topic in lda_model.print_topics():\n",
    "    print('Topic: {} \\nWords: {}'.format(idx, topic))\n",
    "# for i inlda_model.show_topics():  \n",
    "#     print('Topic: {} \\nWords: {}'.format(i[0], i[1]))"
   ]
  },
  {
   "cell_type": "code",
   "execution_count": 39,
   "metadata": {},
   "outputs": [],
   "source": [
    "lda_model_tfidf = gensim.models.LdaMulticore(corpus_tfidf, num_topics=10, id2word=dictionary, passes=2, workers=4)"
   ]
  },
  {
   "cell_type": "code",
   "execution_count": 40,
   "metadata": {},
   "outputs": [
    {
     "name": "stdout",
     "output_type": "stream",
     "text": [
      "Topic: 0 Word: 0.009*\"michael\" + 0.007*\"stori\" + 0.007*\"video\" + 0.005*\"insid\" + 0.005*\"abbott\" + 0.004*\"outback\" + 0.004*\"mount\" + 0.004*\"justic\" + 0.004*\"citizenship\" + 0.004*\"say\"\n",
      "Topic: 1 Word: 0.011*\"drum\" + 0.007*\"street\" + 0.007*\"coal\" + 0.006*\"asylum\" + 0.006*\"violenc\" + 0.006*\"wall\" + 0.006*\"domest\" + 0.005*\"seeker\" + 0.005*\"job\" + 0.005*\"quiz\"\n",
      "Topic: 2 Word: 0.010*\"live\" + 0.008*\"assault\" + 0.007*\"septemb\" + 0.007*\"sexual\" + 0.006*\"cattl\" + 0.005*\"export\" + 0.005*\"final\" + 0.004*\"round\" + 0.004*\"long\" + 0.004*\"rain\"\n",
      "Topic: 3 Word: 0.022*\"trump\" + 0.015*\"interview\" + 0.008*\"john\" + 0.007*\"bodi\" + 0.007*\"novemb\" + 0.006*\"search\" + 0.006*\"polic\" + 0.005*\"toni\" + 0.005*\"escap\" + 0.005*\"blog\"\n",
      "Topic: 4 Word: 0.011*\"govern\" + 0.008*\"health\" + 0.007*\"fund\" + 0.007*\"chang\" + 0.005*\"say\" + 0.005*\"servic\" + 0.005*\"plan\" + 0.005*\"commiss\" + 0.005*\"council\" + 0.005*\"sport\"\n",
      "Topic: 5 Word: 0.021*\"rural\" + 0.011*\"news\" + 0.007*\"nation\" + 0.006*\"tuesday\" + 0.006*\"malcolm\" + 0.005*\"mark\" + 0.004*\"northern\" + 0.004*\"kid\" + 0.004*\"georg\" + 0.004*\"breakfast\"\n",
      "Topic: 6 Word: 0.011*\"podcast\" + 0.010*\"turnbul\" + 0.008*\"world\" + 0.007*\"australia\" + 0.007*\"energi\" + 0.007*\"leagu\" + 0.006*\"rugbi\" + 0.005*\"friday\" + 0.005*\"wrap\" + 0.004*\"zealand\"\n",
      "Topic: 7 Word: 0.019*\"countri\" + 0.018*\"hour\" + 0.015*\"market\" + 0.010*\"share\" + 0.009*\"price\" + 0.007*\"rise\" + 0.006*\"australian\" + 0.006*\"rat\" + 0.006*\"busi\" + 0.006*\"dollar\"\n",
      "Topic: 8 Word: 0.012*\"south\" + 0.009*\"north\" + 0.008*\"australia\" + 0.007*\"coast\" + 0.007*\"west\" + 0.006*\"korea\" + 0.006*\"christma\" + 0.006*\"cricket\" + 0.006*\"ash\" + 0.006*\"wednesday\"\n",
      "Topic: 9 Word: 0.015*\"charg\" + 0.014*\"polic\" + 0.014*\"murder\" + 0.014*\"crash\" + 0.012*\"woman\" + 0.010*\"court\" + 0.009*\"death\" + 0.008*\"alleg\" + 0.008*\"shoot\" + 0.007*\"jail\"\n"
     ]
    }
   ],
   "source": [
    "for idx, topic in lda_model_tfidf.print_topics():\n",
    "    print('Topic: {} Word: {}'.format(idx, topic))"
   ]
  },
  {
   "cell_type": "code",
   "execution_count": 41,
   "metadata": {},
   "outputs": [
    {
     "data": {
      "text/plain": [
       "[u'rain', u'help', u'dampen', u'bushfir']"
      ]
     },
     "execution_count": 41,
     "metadata": {},
     "output_type": "execute_result"
    }
   ],
   "source": [
    "processed_docs[4310]"
   ]
  },
  {
   "cell_type": "code",
   "execution_count": 42,
   "metadata": {},
   "outputs": [
    {
     "name": "stdout",
     "output_type": "stream",
     "text": [
      "\n",
      "Score: 0.419998973608\t \n",
      "Topic: 0.026*\"south\" + 0.025*\"kill\" + 0.014*\"island\" + 0.013*\"fall\" + 0.010*\"attack\" + 0.010*\"forc\" + 0.009*\"christma\" + 0.009*\"shark\" + 0.009*\"east\" + 0.007*\"northern\"\n",
      "\n",
      "Score: 0.22000002861\t \n",
      "Topic: 0.019*\"nation\" + 0.018*\"coast\" + 0.016*\"help\" + 0.016*\"countri\" + 0.015*\"state\" + 0.015*\"chang\" + 0.014*\"health\" + 0.013*\"hour\" + 0.013*\"indigen\" + 0.012*\"water\"\n",
      "\n",
      "Score: 0.22000002861\t \n",
      "Topic: 0.034*\"australia\" + 0.022*\"melbourn\" + 0.021*\"world\" + 0.017*\"open\" + 0.016*\"sydney\" + 0.014*\"final\" + 0.013*\"donald\" + 0.010*\"leagu\" + 0.010*\"take\" + 0.010*\"road\"\n",
      "\n",
      "Score: 0.0200009904802\t \n",
      "Topic: 0.015*\"power\" + 0.013*\"farmer\" + 0.013*\"council\" + 0.012*\"busi\" + 0.011*\"guilti\" + 0.010*\"region\" + 0.010*\"feder\" + 0.009*\"industri\" + 0.009*\"research\" + 0.009*\"futur\"\n",
      "\n",
      "Score: 0.019999999553\t \n",
      "Topic: 0.029*\"elect\" + 0.019*\"say\" + 0.018*\"death\" + 0.017*\"hospit\" + 0.016*\"tasmanian\" + 0.015*\"labor\" + 0.013*\"deal\" + 0.013*\"china\" + 0.011*\"polit\" + 0.011*\"talk\"\n",
      "\n",
      "Score: 0.019999999553\t \n",
      "Topic: 0.020*\"canberra\" + 0.018*\"market\" + 0.014*\"rise\" + 0.014*\"west\" + 0.014*\"turnbul\" + 0.014*\"australian\" + 0.013*\"price\" + 0.013*\"share\" + 0.012*\"victoria\" + 0.011*\"bank\"\n",
      "\n",
      "Score: 0.019999999553\t \n",
      "Topic: 0.063*\"polic\" + 0.023*\"crash\" + 0.019*\"interview\" + 0.018*\"miss\" + 0.018*\"shoot\" + 0.016*\"arrest\" + 0.015*\"investig\" + 0.013*\"driver\" + 0.012*\"search\" + 0.011*\"offic\"\n",
      "\n",
      "Score: 0.019999999553\t \n",
      "Topic: 0.029*\"charg\" + 0.027*\"court\" + 0.021*\"murder\" + 0.018*\"woman\" + 0.018*\"face\" + 0.016*\"die\" + 0.016*\"alleg\" + 0.015*\"brisban\" + 0.015*\"live\" + 0.015*\"jail\"\n",
      "\n",
      "Score: 0.019999999553\t \n",
      "Topic: 0.036*\"trump\" + 0.031*\"australian\" + 0.019*\"queensland\" + 0.014*\"australia\" + 0.014*\"leav\" + 0.014*\"report\" + 0.011*\"show\" + 0.011*\"say\" + 0.011*\"royal\" + 0.010*\"game\"\n",
      "\n",
      "Score: 0.019999999553\t \n",
      "Topic: 0.036*\"govern\" + 0.021*\"test\" + 0.018*\"rural\" + 0.014*\"break\" + 0.012*\"school\" + 0.012*\"news\" + 0.010*\"violenc\" + 0.010*\"worker\" + 0.010*\"say\" + 0.009*\"premier\"\n"
     ]
    }
   ],
   "source": [
    "for index, score in sorted(lda_model[bow_corpus[4310]], key=lambda tup: -1*tup[1]):\n",
    "    print(\"\\nScore: {}\\t \\nTopic: {}\".format(score, lda_model.print_topic(index, 10)))"
   ]
  },
  {
   "cell_type": "code",
   "execution_count": 43,
   "metadata": {},
   "outputs": [
    {
     "name": "stdout",
     "output_type": "stream",
     "text": [
      "\n",
      "Score: 0.436132490635\t \n",
      "Topic: 0.010*\"live\" + 0.008*\"assault\" + 0.007*\"septemb\" + 0.007*\"sexual\" + 0.006*\"cattl\" + 0.005*\"export\" + 0.005*\"final\" + 0.004*\"round\" + 0.004*\"long\" + 0.004*\"rain\"\n",
      "\n",
      "Score: 0.297070741653\t \n",
      "Topic: 0.009*\"michael\" + 0.007*\"stori\" + 0.007*\"video\" + 0.005*\"insid\" + 0.005*\"abbott\" + 0.004*\"outback\" + 0.004*\"mount\" + 0.004*\"justic\" + 0.004*\"citizenship\" + 0.004*\"say\"\n",
      "\n",
      "Score: 0.12677757442\t \n",
      "Topic: 0.021*\"rural\" + 0.011*\"news\" + 0.007*\"nation\" + 0.006*\"tuesday\" + 0.006*\"malcolm\" + 0.005*\"mark\" + 0.004*\"northern\" + 0.004*\"kid\" + 0.004*\"georg\" + 0.004*\"breakfast\"\n",
      "\n",
      "Score: 0.0200049150735\t \n",
      "Topic: 0.011*\"govern\" + 0.008*\"health\" + 0.007*\"fund\" + 0.007*\"chang\" + 0.005*\"say\" + 0.005*\"servic\" + 0.005*\"plan\" + 0.005*\"commiss\" + 0.005*\"council\" + 0.005*\"sport\"\n",
      "\n",
      "Score: 0.0200041681528\t \n",
      "Topic: 0.012*\"south\" + 0.009*\"north\" + 0.008*\"australia\" + 0.007*\"coast\" + 0.007*\"west\" + 0.006*\"korea\" + 0.006*\"christma\" + 0.006*\"cricket\" + 0.006*\"ash\" + 0.006*\"wednesday\"\n",
      "\n",
      "Score: 0.020002676174\t \n",
      "Topic: 0.015*\"charg\" + 0.014*\"polic\" + 0.014*\"murder\" + 0.014*\"crash\" + 0.012*\"woman\" + 0.010*\"court\" + 0.009*\"death\" + 0.008*\"alleg\" + 0.008*\"shoot\" + 0.007*\"jail\"\n",
      "\n",
      "Score: 0.0200026053935\t \n",
      "Topic: 0.011*\"drum\" + 0.007*\"street\" + 0.007*\"coal\" + 0.006*\"asylum\" + 0.006*\"violenc\" + 0.006*\"wall\" + 0.006*\"domest\" + 0.005*\"seeker\" + 0.005*\"job\" + 0.005*\"quiz\"\n",
      "\n",
      "Score: 0.0200020279735\t \n",
      "Topic: 0.019*\"countri\" + 0.018*\"hour\" + 0.015*\"market\" + 0.010*\"share\" + 0.009*\"price\" + 0.007*\"rise\" + 0.006*\"australian\" + 0.006*\"rat\" + 0.006*\"busi\" + 0.006*\"dollar\"\n",
      "\n",
      "Score: 0.0200019590557\t \n",
      "Topic: 0.011*\"podcast\" + 0.010*\"turnbul\" + 0.008*\"world\" + 0.007*\"australia\" + 0.007*\"energi\" + 0.007*\"leagu\" + 0.006*\"rugbi\" + 0.005*\"friday\" + 0.005*\"wrap\" + 0.004*\"zealand\"\n",
      "\n",
      "Score: 0.0200008563697\t \n",
      "Topic: 0.022*\"trump\" + 0.015*\"interview\" + 0.008*\"john\" + 0.007*\"bodi\" + 0.007*\"novemb\" + 0.006*\"search\" + 0.006*\"polic\" + 0.005*\"toni\" + 0.005*\"escap\" + 0.005*\"blog\"\n"
     ]
    }
   ],
   "source": [
    "for index, score in sorted(lda_model_tfidf[bow_corpus[4310]], key=lambda tup: -1*tup[1]):\n",
    "    print(\"\\nScore: {}\\t \\nTopic: {}\".format(score, lda_model_tfidf.print_topic(index, 10)))"
   ]
  },
  {
   "cell_type": "code",
   "execution_count": 46,
   "metadata": {},
   "outputs": [
    {
     "name": "stdout",
     "output_type": "stream",
     "text": [
      "Score: 0.277464956045\t Topic: 0.029*\"elect\" + 0.019*\"say\" + 0.018*\"death\" + 0.017*\"hospit\" + 0.016*\"tasmanian\"\n",
      "Score: 0.25586143136\t Topic: 0.019*\"nation\" + 0.018*\"coast\" + 0.016*\"help\" + 0.016*\"countri\" + 0.015*\"state\"\n",
      "Score: 0.183333352208\t Topic: 0.020*\"canberra\" + 0.018*\"market\" + 0.014*\"rise\" + 0.014*\"west\" + 0.014*\"turnbul\"\n",
      "Score: 0.183333337307\t Topic: 0.063*\"polic\" + 0.023*\"crash\" + 0.019*\"interview\" + 0.018*\"miss\" + 0.018*\"shoot\"\n",
      "Score: 0.0166736412793\t Topic: 0.036*\"trump\" + 0.031*\"australian\" + 0.019*\"queensland\" + 0.014*\"australia\" + 0.014*\"leav\"\n",
      "Score: 0.0166666675359\t Topic: 0.029*\"charg\" + 0.027*\"court\" + 0.021*\"murder\" + 0.018*\"woman\" + 0.018*\"face\"\n",
      "Score: 0.0166666675359\t Topic: 0.034*\"australia\" + 0.022*\"melbourn\" + 0.021*\"world\" + 0.017*\"open\" + 0.016*\"sydney\"\n",
      "Score: 0.0166666675359\t Topic: 0.026*\"south\" + 0.025*\"kill\" + 0.014*\"island\" + 0.013*\"fall\" + 0.010*\"attack\"\n",
      "Score: 0.0166666675359\t Topic: 0.015*\"power\" + 0.013*\"farmer\" + 0.013*\"council\" + 0.012*\"busi\" + 0.011*\"guilti\"\n",
      "Score: 0.0166666675359\t Topic: 0.036*\"govern\" + 0.021*\"test\" + 0.018*\"rural\" + 0.014*\"break\" + 0.012*\"school\"\n"
     ]
    }
   ],
   "source": [
    "unseen_document = 'How a Pentagon deal became an identity crisis for Google'\n",
    "bow_vector = dictionary.doc2bow(preprocess(unseen_document))\n",
    "\n",
    "for index, score in sorted(lda_model[bow_vector], key=lambda tup: -1*tup[1]):\n",
    "    print(\"Score: {}\\t Topic: {}\".format(score, lda_model.print_topic(index, 5)))"
   ]
  },
  {
   "cell_type": "code",
   "execution_count": null,
   "metadata": {},
   "outputs": [],
   "source": []
  },
  {
   "cell_type": "code",
   "execution_count": null,
   "metadata": {},
   "outputs": [],
   "source": []
  }
 ],
 "metadata": {
  "kernelspec": {
   "display_name": "Python 2",
   "language": "python",
   "name": "python2"
  },
  "language_info": {
   "codemirror_mode": {
    "name": "ipython",
    "version": 2
   },
   "file_extension": ".py",
   "mimetype": "text/x-python",
   "name": "python",
   "nbconvert_exporter": "python",
   "pygments_lexer": "ipython2",
   "version": "2.7.15"
  }
 },
 "nbformat": 4,
 "nbformat_minor": 2
}
